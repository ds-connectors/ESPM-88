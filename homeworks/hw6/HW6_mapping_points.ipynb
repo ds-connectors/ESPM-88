{
 "cells": [
  {
   "cell_type": "markdown",
   "metadata": {},
   "source": [
    "# Homework 6. Visualizing and Mapping Points \n",
    "\n",
    "This homework builds on the class lecture, readings and Mapping Points notebook to explore the many common ways in which point data can be visualized and mapped.  You can find the Mapping Points notebook in the same folder as this homework document."
   ]
  },
  {
   "cell_type": "markdown",
   "metadata": {},
   "source": [
    "## What to Submit\n",
    "Submit a zipfile with your ipython notebook and a PDF of the notebook via bCourses by **Tuesday, March 29, 2016 at 5pm**. If you are unable to create a PDF file, just submit your zipped notebook."
   ]
  },
  {
   "cell_type": "code",
   "execution_count": null,
   "metadata": {
    "collapsed": true
   },
   "outputs": [],
   "source": [
    "# Import the libraries we will use\n",
    "from datascience import *\n",
    "import numpy as np\n",
    "import math\n",
    "import matplotlib.pyplot as plt\n",
    "\n",
    "%matplotlib inline"
   ]
  },
  {
   "cell_type": "code",
   "execution_count": null,
   "metadata": {
    "collapsed": true
   },
   "outputs": [],
   "source": [
    "# Current Maps.py Circle method map_table supports setting color for each features\n",
    "# based on the value in the column color\n",
    "# But radius can only be set for all rows as a keyword arg radius\n",
    "\n",
    "# Import map_local.py to support feature level radii values\n",
    "# in Circle.map_table function. This uses radius value in column\n",
    "# This allows for proportional and graduated symbol mapping\n",
    "\n",
    "from maps_local import *"
   ]
  },
  {
   "cell_type": "markdown",
   "metadata": {},
   "source": [
    "## Preparation\n",
    "Read the Mapping Points Notebook carefully and run all the code. Make changes to experiment."
   ]
  },
  {
   "cell_type": "markdown",
   "metadata": {},
   "source": [
    "## Earthquake maps\n",
    "The first set of questions concerns the schools and earthquake data mapped in the Mapping Points notebook."
   ]
  },
  {
   "cell_type": "markdown",
   "metadata": {},
   "source": [
    "### Question 1\n",
    "For each of the following types of Alameda County School Maps shown in the Mapping Points notebook, discuss what you found to be its strengths and limitations in displaying information:\n",
    "- 1.a. Marker dot map\n",
    "- 1.b. Circle dot map\n",
    "- 1.c. Cluster map\n",
    "\n",
    "#### Double-click here to add your answer below."
   ]
  },
  {
   "cell_type": "markdown",
   "metadata": {},
   "source": [
    "### Question 2\n",
    "Review the different maps of global earthquakes in the Mapping Points notebook. For the time period being mapped in what part of the world does it appear that the most earthquakes greater than 2.5 magnitude are occuring? What map tells you this and how? \n",
    "\n",
    "#### Double-click here to add your answer below.\n"
   ]
  },
  {
   "cell_type": "markdown",
   "metadata": {},
   "source": [
    "### Question 3\n",
    "In the first proportional symbol global earthquake map, the earthquake farthest North, above Greenland, appears to have the largest symbol. Is this the quake with the greatest magnitude? If not, why is the symbol so large?\n",
    "\n",
    "#### Double-click here to add your answer below."
   ]
  },
  {
   "cell_type": "markdown",
   "metadata": {},
   "source": [
    "### Question 4\n",
    "For the three graduated symbol maps of US earthquakes, which classification method do you think best conveys the location of earthquakes and the variance in earthquake magnitudes and why?\n",
    "\n",
    "#### Double-click here to add your answer below."
   ]
  },
  {
   "cell_type": "markdown",
   "metadata": {},
   "source": [
    "### Question 5\n",
    "For the three graduated color maps of US earthquakes, which classification method do you think best conveys the location of earthquakes and the variance in earthquake magnitudes and why?\n",
    "\n",
    "#### Double-click here to add your answer below."
   ]
  },
  {
   "cell_type": "markdown",
   "metadata": {},
   "source": [
    "### Question 6\n",
    "Do you find the proportional symbol, graduated color or graduated symbol maps of US earthquakes to be more useful in conveying location and magnitude information? Why?\n",
    "\n",
    "#### Double-click here to add your answer below."
   ]
  },
  {
   "cell_type": "markdown",
   "metadata": {},
   "source": [
    "### Question 7\n",
    "Read the USGS earthquake data used in the Mapping Points notebook into this notebook. In the cell below, create a **bivarate map** of US earthquakes that shows *magnitude* by graduate symbol size and earthquake *depth* by graduated symbol color. Use a different color palatte from colorbrewer.org then the one we already used in the Mapping Points notebook. Note that with earthquake depth the shallower the quake, the greater the significance of shaking from the event. Add more code cells if needed."
   ]
  },
  {
   "cell_type": "code",
   "execution_count": null,
   "metadata": {
    "collapsed": true
   },
   "outputs": [],
   "source": [
    "# Add your code for Question 7 here. Add extra cells if needed.\n"
   ]
  },
  {
   "cell_type": "markdown",
   "metadata": {},
   "source": [
    "### Question 8\n",
    "In addition to providing downloadable files of recent earthquake data, the USGS also provides an **API**, or application programmers interface, that allows you to download slices of earthquake data based on your search criteria.  The cell below shows how to fetch earthquake data for the month that included the California 1989 Loma Prieta earthquake. Make a proportional symbol map from that data to see the dramatic magnitude of this quake. Be sure to include popup text for each earthquake feature."
   ]
  },
  {
   "cell_type": "code",
   "execution_count": null,
   "metadata": {
    "collapsed": true
   },
   "outputs": [],
   "source": [
    "## Fetch historic CA earthquake data via USGS Earthquake API\n",
    "quake_url = \"http://earthquake.usgs.gov/fdsnws/event/1/query?format=csv&starttime=1989-10-01&endtime=1989-10-31&minmagnitude=2.5\"\n",
    "# California Bounding Extent: (-124.848974, 24.396308) - (-66.885444, 49.384358)\n",
    "quake_url = quake_url + \"&minlatitude=25&maxlatitude=49&minlongitude=-124&maxlongitude=-66\"\n",
    "histquakes = Table.read_table(quake_url, sep=\",\")"
   ]
  },
  {
   "cell_type": "code",
   "execution_count": null,
   "metadata": {
    "collapsed": true
   },
   "outputs": [],
   "source": [
    "# Add your code for Question 8 here. Add extra cells if needed\n"
   ]
  },
  {
   "cell_type": "markdown",
   "metadata": {},
   "source": [
    "## Making maps of San Francisco Crime data\n",
    "\n",
    "The next set of questions will be based on the SF crime data that you can read in using the following code cell.\n"
   ]
  },
  {
   "cell_type": "code",
   "execution_count": null,
   "metadata": {
    "collapsed": false
   },
   "outputs": [],
   "source": [
    "# Read in the SF Crime data for first few months of 2016\n",
    "# Data from https://data.sfgov.org/Public-Safety/SFPD-Incidents-Current-Year-2016-/\n",
    "myfile = './SFPD_incidents_2016.csv'\n",
    "sfcrimes = Table.read_table(myfile)\n",
    "sfcrimes"
   ]
  },
  {
   "cell_type": "markdown",
   "metadata": {},
   "source": [
    "### Question 9. Cluster map of SF Crimes\n",
    "In the cell below, create a cluster map to see the distribution of SF crimes for this data. Using the information on the underlying OpenStreetMap reference map, what SF neighborhood seems to have the most crime? You can identify it by the streets or a landmark or your knowledge of the city."
   ]
  },
  {
   "cell_type": "code",
   "execution_count": null,
   "metadata": {
    "collapsed": false
   },
   "outputs": [],
   "source": [
    "# Clustered dot map of SF Crime Incidents\n",
    "# Your code for Question 9 below..."
   ]
  },
  {
   "cell_type": "markdown",
   "metadata": {},
   "source": [
    "### Exploring the SF Crime data\n",
    "Take a look at the different categories of crimes and the counts of incidents in each category."
   ]
  },
  {
   "cell_type": "code",
   "execution_count": null,
   "metadata": {
    "collapsed": false
   },
   "outputs": [],
   "source": [
    "# What are the different categories of crime and how frequent do they occur?\n",
    "crime_cats = sfcrimes.select(('IncidntNum','Category')).group('Category',len).sort('IncidntNum len', descending=True)\n",
    "crime_cats = crime_cats.relabel('IncidntNum len', 'cat_count')\n",
    "crime_cats.show()\n"
   ]
  },
  {
   "cell_type": "code",
   "execution_count": null,
   "metadata": {
    "collapsed": false
   },
   "outputs": [],
   "source": [
    "# View one category of crime\n",
    "sfcrimes.where(sfcrimes['Category']=='BRIBERY')"
   ]
  },
  {
   "cell_type": "code",
   "execution_count": null,
   "metadata": {
    "collapsed": false
   },
   "outputs": [],
   "source": [
    "# Examine data for more than one type of crime\n",
    "sfcrimes.where((sfcrimes['Category']=='BRIBERY') | (sfcrimes['Category']=='FRAUD'))"
   ]
  },
  {
   "cell_type": "markdown",
   "metadata": {},
   "source": [
    "### Question 10\n",
    "Select one crime category and create a subset of the SF crime data. Create a map of these data in the code cell below. Make sure that the map includes popup text.\n"
   ]
  },
  {
   "cell_type": "code",
   "execution_count": null,
   "metadata": {
    "collapsed": true
   },
   "outputs": [],
   "source": [
    "# Enter the code for your single category crime map below for Question 9\n"
   ]
  },
  {
   "cell_type": "markdown",
   "metadata": {},
   "source": [
    "### Question 11\n",
    "Discuss what your map for Question 10 tells you about the distribution and density of this crime category in SF. Do these types of crimes appear to be clustered in any specific part of the city?\n",
    "\n",
    "#### Double-click here to add your answer for Question 11."
   ]
  },
  {
   "cell_type": "markdown",
   "metadata": {},
   "source": [
    "### Question 12\n",
    "In the code cell below create a category map of the two crime categories ** DRUG/NARCOTIC** and **PROSTITION** to visualize their distribution in SF. Add popup text to each symbol you display on the map."
   ]
  },
  {
   "cell_type": "code",
   "execution_count": null,
   "metadata": {
    "collapsed": true
   },
   "outputs": [],
   "source": [
    "# Enter your code for a two crime category map here for Question 12.."
   ]
  },
  {
   "cell_type": "markdown",
   "metadata": {},
   "source": [
    "### Question 13\n",
    "Discuss the map you made for Question 12. Does there appear to be any relationship between these two crime types? If yes, explain why you think so based on the map.\n",
    "\n",
    "#### Double-click here to add your answer for question 13."
   ]
  },
  {
   "cell_type": "markdown",
   "metadata": {},
   "source": [
    "### Question 14 - bonus - extra credit - optional\n",
    "Do you notice an area of the US in the 2016 that has a lot of earthquakes but where there were none in 1989? Can you do an online search and suggest why this may be so.\n",
    "\n",
    "#### Double-click here to input your answer to question 14."
   ]
  }
 ],
 "metadata": {
  "kernelspec": {
   "display_name": "Python 3",
   "language": "python",
   "name": "python3"
  },
  "language_info": {
   "codemirror_mode": {
    "name": "ipython",
    "version": 3
   },
   "file_extension": ".py",
   "mimetype": "text/x-python",
   "name": "python",
   "nbconvert_exporter": "python",
   "pygments_lexer": "ipython3",
   "version": "3.4.4"
  }
 },
 "nbformat": 4,
 "nbformat_minor": 0
}
