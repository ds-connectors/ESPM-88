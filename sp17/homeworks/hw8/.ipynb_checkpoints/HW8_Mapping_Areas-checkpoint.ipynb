{
 "cells": [
  {
   "cell_type": "markdown",
   "metadata": {},
   "source": [
    "# Homework Exercise 8: Mapping Areas\n",
    "\n",
    "In this exercise we explore ways to map area data. We will create choropleth maps of the January 2016 San Francisco crime data that we used in HW7. However, instead of mapping crime incidents as points, we will aggregate the point data by three different area types: San Francisco Police Districts, neighborhoods and census tracts. Two key questions that we will explore are: (1) how does the change in area type used to aggregate the data change the mapped visualizations of the data? and (2) how does the mapped visualizations change when we map counts, densities, and rates within the different areas?\n",
    "\n",
    "The geographic data we explore are all from the [San Francisco OpenData Portal](https://data.sfgov.org). The population data for San Francisco census tracts was downloaded from the [US Census American Factfinder](http://factfinder.census.gov/) website."
   ]
  },
  {
   "cell_type": "code",
   "execution_count": null,
   "metadata": {
    "collapsed": true
   },
   "outputs": [],
   "source": [
    "# Import libraries -  run but don't change\n",
    "\n",
    "from datascience import *   # The basics\n",
    "import numpy as np\n",
    "\n",
    "import timeit # to time our functions\n",
    "\n",
    "import json  # for loading geodata and creating shapely geometries and testing spatial relationships\n",
    "from shapely import wkt\n",
    "from shapely.geometry import Polygon, Point, LineString, shape\n",
    "from shapely import speedups\n",
    "speedups.enable()\n",
    "\n",
    "from shapely.ops import transform  # for projection transformations\n",
    "from functools import partial\n",
    "import pyproj\n"
   ]
  },
  {
   "cell_type": "code",
   "execution_count": null,
   "metadata": {
    "collapsed": false
   },
   "outputs": [],
   "source": [
    "# The files we will use - run, don't change\n",
    "\n",
    "crime_file = 'sfcrimes_jan2016.csv'                     # crime incidents - with neighborhoods\n",
    "\n",
    "pdist_geofile = 'CurrentPoliceDistricts2s.geojson'      # SF police districts \n",
    "\n",
    "sfhoods_geofile = 'SFNeighborhoods_s2.json'             # SF neighborhoods  \n",
    "\n",
    "sftracts_geofile = 'SF_nhoods_census_s2.json'           # SF census tracts \n",
    "sftracts_popdata_file = 'SF_ACS15_POPEST2.csv'"
   ]
  },
  {
   "cell_type": "markdown",
   "metadata": {},
   "source": [
    "## San Francisco Crime Incident Data, January 2016\n",
    "First, let's load the SF crime incident data into a table and display it. This should look familiar as it is the same data used in HW7. We can see that the longitude and latitude for each crime location are in the columns labeled X and Y. We can also see from the Address column that these locations are approximate, placed at either the nearest intersection or the middle of the block. This is a common practice to proctect privacy of the residents in these locations.\n",
    "\n",
    "We can also see that the sfcrimes data includes a PdDistrict column indicating the SF Police Department district  either responsible for or within which the crime incident occured."
   ]
  },
  {
   "cell_type": "code",
   "execution_count": null,
   "metadata": {
    "collapsed": false
   },
   "outputs": [],
   "source": [
    "# load crime data into a table\n",
    "sfcrimes = Table.read_table(crime_file)\n",
    "sfcrimes"
   ]
  },
  {
   "cell_type": "markdown",
   "metadata": {},
   "source": [
    "### SF Police Department (SFPD) Districts\n",
    "Let's load the GeoJSON file with the polygons representing the different SFPD districts.  You will notice we use a slightly different syntax to load a GeoJSON file. A GeoJSON file is a special type of JSON file that contains geographic data. We explored GeoJSON data format in a previous exercise.\n",
    "\n",
    "Once we load the file we can take a look at the properties, or attributes, present in the data that describe each area. We don't want to view all of the data because the coordinate values for the polygons are huge."
   ]
  },
  {
   "cell_type": "code",
   "execution_count": null,
   "metadata": {
    "collapsed": false,
    "scrolled": true
   },
   "outputs": [],
   "source": [
    "# Load police districts geojson file \n",
    "with open(pdist_geofile) as json_file:\n",
    "    sfpd_json = json.load(json_file)\n",
    "    \n",
    "# Let's checkout the properties, or attributes that describe the geographic data, in the geojson file\n",
    "print(sfpd_json['features'][1]['properties'])"
   ]
  },
  {
   "cell_type": "markdown",
   "metadata": {},
   "source": [
    "If you look at the output from printing the properties for one feature, you will see that the property **district** contains the nmame of the SFPD district. We will use the values in this property to link crime incidents to district polygons. Note that the property labels are *case sensitvie*.\n",
    "\n",
    "Now let's use the **Maps** module of the datascience library to map the districts.  The Maps module uses the **folium** mapping library but is simpler and has few options. We will use it so we can focus on the data."
   ]
  },
  {
   "cell_type": "code",
   "execution_count": null,
   "metadata": {
    "collapsed": false,
    "scrolled": true
   },
   "outputs": [],
   "source": [
    "# Create Map from SF Police Districts\n",
    "sfpd_map = Map.read_geojson(pdist_geofile)\n",
    "sfpd_map\n"
   ]
  },
  {
   "cell_type": "markdown",
   "metadata": {},
   "source": [
    "## Choropleth Maps\n",
    "\n",
    "In HW7 we mapped the crime incident locations as points. One thing we noticed is that there are a lot of points, and this data is only for Jan 2016. With a large number of point objects, such as crime incidents, it is common to aggregate those data to an area of interest and then visualize the aggregations as a **choropleth** map.  Choropleth maps are data maps - data values summarized by geographic regions. Note, these regions are also called zones, areas and polygons - but calling them polygons confuses the representation method with the representation model! The goal for the map symbology is to communicate the data values within the different regions.  This objective is similar to that of a histogram. But unlike a histogram where each bin is of the same width, choropleth maps usually depict different sized regions. This variation in area makes communicating the data values more complex.\n"
   ]
  },
  {
   "cell_type": "markdown",
   "metadata": {},
   "source": [
    "### Summing Counts By Regions\n",
    "In order to map the crime indident data by SFPD district we need to some the counts of crimes per district.  With geographic data this is done in one of two ways:\n",
    "- **Sum values by attribute**: count the number of objects by a shared attribute value. This is a *group by* operation if the data are in the same table. Otherwise, it could be accomplished with a *join* and *group by* operation.\n",
    "- **Sum values by location**: count the number of objects at or within the same location. In this case we call upon the **spatial relationship queries** that we explored in HW4. \n",
    "\n",
    "Let's first count the number of crime incididents by grouping the data in the **sfcrimes** table based on the values in the **PdDistrict** column."
   ]
  },
  {
   "cell_type": "code",
   "execution_count": null,
   "metadata": {
    "collapsed": false
   },
   "outputs": [],
   "source": [
    "# Count the number of crime incidents within each police district based on the values in the column PdDistrict\n",
    "crime_sfpd_dist = sfcrimes.select(('IncidntNum','PdDistrict')).group('PdDistrict',len).sort('IncidntNum len', descending=True)\n",
    "crime_sfpd_dist = crime_sfpd_dist.relabel('IncidntNum len', 'crime_count')\n",
    "crime_sfpd_dist.show()"
   ]
  },
  {
   "cell_type": "markdown",
   "metadata": {},
   "source": [
    "### Point in Polygon Queries\n",
    "\n",
    "Now, let's count the incidents by spatial location. When the location is a region, this is called a **point in polygon (PIP)** query.  Below, the **geojsonPointInPoly** function is a simple implementation of a PIP query. The features of the input geojson data are checked to see which polygon **contains** the input a point, specified by its coordinates. The specified property (propertyName) of the matched feature is returned."
   ]
  },
  {
   "cell_type": "code",
   "execution_count": null,
   "metadata": {
    "collapsed": false
   },
   "outputs": [],
   "source": [
    "# Point in Polygon function\n",
    "def geojsonPointInPoly(x,y, jsonData,propertyName):\n",
    "   \n",
    "    property = 'unknown' # we want to find the property of the polygon we intersect\n",
    "                         # before we check the property is unknown\n",
    "        \n",
    "    # construct shapely point based on x,y\n",
    "    point = Point(x,y)\n",
    "    \n",
    "    # check each polygon to see if it contains the point\n",
    "    for feature in jsonData['features']:\n",
    "        polygon = shape(feature['geometry'])\n",
    "        if polygon.contains(point):\n",
    "            property = feature['properties'][propertyName]\n",
    "            return property  # return as soon as we find a match\n",
    "\n",
    "    return property  # and return if we don't find a match\n",
    "\n",
    "\n",
    "# TEST and TIME it\n",
    "%timeit geojsonPointInPoly(-122.416, 37.7612, sfpd_json, 'district')"
   ]
  },
  {
   "cell_type": "markdown",
   "metadata": {},
   "source": [
    "Note that at the bottom of the code block above we test the function with one point and we also time it using the Jupyter notebook magic function **%timeit**. We time the function because PIP queries can be super slow if the polygon geometries have a lot of data points and the data are not spatially indexed.  Those are the kinds of things you need to worry about if you are programming these operations. If you are using desktop GIS software this is less of a concern. The queries can still take a lot of time but the software will build the spatial indices so you don't have to.\n",
    "\n",
    "To speed up these PIP queries we first simplified the polygon data using a handy online tool called [Mapshaper](http://www.mapshaper.org). Simplification throws away some of the geographic detail in order to speed things up.\n"
   ]
  },
  {
   "cell_type": "markdown",
   "metadata": {
    "collapsed": false
   },
   "source": [
    "### Apply the PIP Query\n",
    "Let's apply the **geojsonPointInPolygon** function to spatially determine the district in which each crimes incident is located. Following our usually pattern, we will **apply** the function to the sfcrimes table and save the result in a new column.  We will use this pattern over and over in this exercise."
   ]
  },
  {
   "cell_type": "code",
   "execution_count": null,
   "metadata": {
    "collapsed": false
   },
   "outputs": [],
   "source": [
    "# Use the Point In Polygon spatial relationship functin to determine the police district in which each crime occurs\n",
    "sfcrimes['district'] = sfcrimes.apply(lambda x, y: geojsonPointInPoly(x,y, sfpd_json,'district'),['X','Y'])\n",
    "sfcrimes"
   ]
  },
  {
   "cell_type": "markdown",
   "metadata": {},
   "source": [
    "If you look at the table above you will see that some of the **PdDistrict** values do not match the **district** values. That is interesting, if not disconcerting. Let's count the number of mismatches."
   ]
  },
  {
   "cell_type": "code",
   "execution_count": null,
   "metadata": {
    "collapsed": false
   },
   "outputs": [],
   "source": [
    "print(\"Number of mismatches: \", sfcrimes.where((sfcrimes['PdDistrict'] != sfcrimes['district'])).num_rows)\n",
    "print(\"Number of crimes incidents: \", sfcrimes.num_rows)\n"
   ]
  },
  {
   "cell_type": "markdown",
   "metadata": {},
   "source": [
    "### QUESTION 1\n",
    "Overall, that's a small percentage of mismatches. But think for a minute about what may have caused it. There are three possible reasons (maybe more). These include:\n",
    "- A: The SFPD criteria for assignment of district,\n",
    "- B: The polygon simplification process\n",
    "- C: The spatial relationshiop used in the PIP function (see above).\n",
    "\n",
    "In the cell below explain briefly how each of these may have contribted to the mismatch."
   ]
  },
  {
   "cell_type": "markdown",
   "metadata": {},
   "source": [
    "**Double-click here to replace this line with your answer.**"
   ]
  },
  {
   "cell_type": "markdown",
   "metadata": {},
   "source": [
    "An important take-away from the section above is that is important to **CYA**, or cover your answers, when reporting the results of your geospatial analysis.  If you document your assumptions, data, and methods and share your code it will be easier for you and others to understand the results and any discrepencies with other reports."
   ]
  },
  {
   "cell_type": "markdown",
   "metadata": {},
   "source": [
    "### Mapping Counts by Region\n",
    "\n",
    "In order to map the counts by SFPD district, first create a table of the count of crimes within each district.  We will use the column **district** that we calculated with our PIP query because we know that that the crime incident points are spatially contained withing these district polygons that we are mapping."
   ]
  },
  {
   "cell_type": "code",
   "execution_count": null,
   "metadata": {
    "collapsed": false,
    "scrolled": true
   },
   "outputs": [],
   "source": [
    "# Count the number of crimes within each police district\n",
    "crime_sfpd = sfcrimes.select(('IncidntNum','district')).group('district',len).sort('IncidntNum len', descending=True)\n",
    "crime_sfpd = crime_sfpd.relabel('IncidntNum len', 'crime_count')\n",
    "crime_sfpd.show()"
   ]
  },
  {
   "cell_type": "markdown",
   "metadata": {},
   "source": [
    "#### Join the Crime Counts to the Map\n",
    "We now join the crime counts to the map data to symbolize the color of each SFPD district based on the crime counts. "
   ]
  },
  {
   "cell_type": "code",
   "execution_count": null,
   "metadata": {
    "collapsed": false
   },
   "outputs": [],
   "source": [
    "#Join the crime counts to the geojson file by district so we can map it\n",
    "crimes_per_dist = crime_sfpd.select(['district','crime_count'])\n",
    "\n",
    "sfpd_map.color(crimes_per_dist, key_on='feature.properties.district', palette='YlOrRd')\n"
   ]
  },
  {
   "cell_type": "markdown",
   "metadata": {},
   "source": [
    "### QUESTION 2\n",
    "According to the map above, \n",
    "- A: What SFPD District has the most crime incidents? \n",
    "- B: The Tenderloin has a reputation for being a high crime area. Accoriing to the map above is the Tenderloin in the high, medium, or low end of the crime count spectrum?\n",
    "\n",
    "Unfortunately our map doesn't have a way to add labels. So You can use this [map](sfpd_districts_map.png) to associate the regions with the district names."
   ]
  },
  {
   "cell_type": "markdown",
   "metadata": {},
   "source": [
    "**Double-click here to replace this line with your answer.**"
   ]
  },
  {
   "cell_type": "markdown",
   "metadata": {},
   "source": [
    "### QUESTION  3\n",
    "Complete the code cells below create a choropleth map of the crime counts within SF Neighborhoods. Use the method we used above for SFPD districts."
   ]
  },
  {
   "cell_type": "code",
   "execution_count": null,
   "metadata": {
    "collapsed": false
   },
   "outputs": [],
   "source": [
    "# Load the sf neighborhoods shapefile\n",
    "with open(sfhoods_geofile) as json_file:\n",
    "    sfhoods_json = json.load(json_file)\n",
    "    \n",
    "# Uncomment the line below and print out the names of the fields in the geojson file \n",
    "print(...)\n",
    "\n",
    "## Add a print statement that notes the field that you can use to identify the neighborhood name of each polygon"
   ]
  },
  {
   "cell_type": "code",
   "execution_count": null,
   "metadata": {
    "collapsed": false
   },
   "outputs": [],
   "source": [
    "# Create Map from SF Neighborhoods\n",
    "sfhoods_map = .... # add your code here to read in the geojson file to a map\n",
    "sfhoods_map  "
   ]
  },
  {
   "cell_type": "code",
   "execution_count": null,
   "metadata": {
    "collapsed": true
   },
   "outputs": [],
   "source": [
    "# Use the Point In Polygon spatial relationship function to determine the neighborhood in which each crime occurs\n",
    "sfcrimes['nhood'] = sfcrimes.apply(...) # add your code"
   ]
  },
  {
   "cell_type": "code",
   "execution_count": null,
   "metadata": {
    "collapsed": false
   },
   "outputs": [],
   "source": [
    "# Count the number of crimes within each neighborhood\n",
    "crime_nhood = sfcrimes.select(...) # add your code to this line\n",
    "crime_nhood = crime_nhood.relabel('IncidntNum len', 'crime_count')\n",
    "crime_nhood"
   ]
  },
  {
   "cell_type": "markdown",
   "metadata": {},
   "source": [
    "If all went well for QUESTION 3 above, the following cell should display a map of crime counts by SF neighborhood."
   ]
  },
  {
   "cell_type": "code",
   "execution_count": null,
   "metadata": {
    "collapsed": false
   },
   "outputs": [],
   "source": [
    "#Join the crime counts to the geojson file so we can map it\n",
    "crimes_per_nhood = crime_nhood.select(['nhood','crime_count'])\n",
    "sfhoods_map.color(crimes_per_nhood, key_on='feature.properties.nhood', palette='YlOrRd')"
   ]
  },
  {
   "cell_type": "markdown",
   "metadata": {},
   "source": [
    "Now let's create a choropleth map of the crime counts within **SF Census Tracts**.  We will use the method we used above for SFPD districts and neighborhoods.\n",
    "\n",
    "First we load the geojson data from the file and display the map. This is shown below."
   ]
  },
  {
   "cell_type": "code",
   "execution_count": null,
   "metadata": {
    "collapsed": false
   },
   "outputs": [],
   "source": [
    "# Load the sf Census Tracts shapefile\n",
    "with open(sftracts_geofile) as json_file:\n",
    "    sftracts_json = json.load(json_file)\n",
    "    \n",
    "# Let's checkout the fields in the geojson file - ** WHAT IS THE FIELD OF INTEREST? **tractce10**\n",
    "print(sftracts_json['features'][1]['properties'])"
   ]
  },
  {
   "cell_type": "code",
   "execution_count": null,
   "metadata": {
    "collapsed": false
   },
   "outputs": [],
   "source": [
    "# Create Map from SF Census Tracts GeoJSON\n",
    "sftracts_map = Map.read_geojson(sftracts_geofile)\n",
    "sftracts_map\n"
   ]
  },
  {
   "cell_type": "markdown",
   "metadata": {},
   "source": [
    "### QUESTION 4\n",
    "Complete the cells below create a choropleth map of the crime counts within SF Census Tracts."
   ]
  },
  {
   "cell_type": "code",
   "execution_count": null,
   "metadata": {
    "collapsed": true
   },
   "outputs": [],
   "source": [
    "# Use the Point In Polygon spatial relationship function to determine the tract in which each crime occurs \n",
    "# COULD TAKE A FEW MINUTES!\n",
    "sfcrimes['tractce10'] = sfcrimes.apply(...) # your code here"
   ]
  },
  {
   "cell_type": "code",
   "execution_count": null,
   "metadata": {
    "collapsed": false
   },
   "outputs": [],
   "source": [
    "# Count the number of crimes within each census tract\n",
    "crime_tracts = sfcrimes.select((...) # your code here\n",
    "crime_tracts = crime_tracts.relabel('IncidntNum len', 'crime_count')\n",
    "crime_tracts"
   ]
  },
  {
   "cell_type": "code",
   "execution_count": null,
   "metadata": {
    "collapsed": false
   },
   "outputs": [],
   "source": [
    "#Join the crime counts to the geojson file by district so we can map it\n",
    "crimes_per_tract = crime_tracts.select(...) # your code here\n",
    "\n",
    "sftracts_map.color(crimes_per_tract, key_on='feature.properties.tractce10', palette='YlOrRd')"
   ]
  },
  {
   "cell_type": "markdown",
   "metadata": {},
   "source": [
    "### QUESTION 5\n",
    "\n",
    "Based on the maps above,\n",
    "\n",
    "- A: Do each of the three maps communicate the same thing about the distribution of crime in SF?  If not how do they differ?\n",
    "- B: What map indicates that most of the crime is south of market street?  \n",
    "- C: What map would you use to show that there is relatively little crime in Bayview Hunters Point area? \n",
    "- D: What map would you use to show that Golden Gate Park is a high crime area?\n",
    "- E: How do these maps indicate the MAUP problem.\n",
    "- F: What relationshop do you observe between the size of each area and the perception of high crime?\n",
    "\n",
    "NOTE: Refer to this [neighborhood map](sf_nhoods.png) for neighborhood names."
   ]
  },
  {
   "cell_type": "markdown",
   "metadata": {},
   "source": [
    "**Double-click here to replace this line with your answer.**"
   ]
  },
  {
   "cell_type": "markdown",
   "metadata": {},
   "source": [
    "## Mapping Density\n",
    "When geographic events like crime incidents or objects like tree locations are aggregated by a region like a neighborhood they usually are **NOT** symbolized by the **counts** within each region. Instead they are more often symbolized by **density** or **rate**.  A **density map** divides the count by a unit of area, for example, crimes per square mile. A **rate map** divides the count by the population of interest, for example, crimes per 1,000 residents. This transformation of the data is called standardization or normalization.  See this nice, simple writeup from indiemapper.com on [data standardization](http://indiemapper.com/app/learnmore.php?l=standardize).\n",
    "\n",
    "In this section we will map the counts by area. We first need to compute the area for each region. In order to compute area we must **transform** the geographic coordinates to a **projected coordinate reference system** that preserves **area**.\n",
    "\n",
    "Let's explore this first with the SF Police Districts Data. Look again at the table of crime counts per police district, called **crime_sfpd** above.  What we want to do is add a column to table that has the area in sq kilometers and then use the crime_count and area_km2 columns to compte the density of crime incidents per square kilometer in each district."
   ]
  },
  {
   "cell_type": "code",
   "execution_count": null,
   "metadata": {
    "collapsed": false
   },
   "outputs": [],
   "source": [
    "crime_sfpd"
   ]
  },
  {
   "cell_type": "markdown",
   "metadata": {},
   "source": [
    "### Computing area\n",
    "Below we define a projection transformation object and a function for computing area in square kilometers for a geographic feature in a geojson data object based on the input property name and value."
   ]
  },
  {
   "cell_type": "code",
   "execution_count": null,
   "metadata": {
    "collapsed": false
   },
   "outputs": [],
   "source": [
    "# Compute area of each region\n",
    "\n",
    "# First define the projection transformation object\n",
    "transformTo3310 = partial(\n",
    "    pyproj.transform,\n",
    "    pyproj.Proj(init='epsg:4326'),  # source coordinate system - WGS 84, EPSG:4326\n",
    "    pyproj.Proj(init='epsg:3310'))  # destination coordinate system California Albers\n",
    "                                    # We want to use this projection because it is a California equal area proj \n",
    "                                    # and we are doing area calculations in california\n",
    "\n",
    "\n",
    "# Function to compute the area of a feature in a geojson file\n",
    "# Inputs: geojson file name, the name of the property we are searching on to find a match, eg police district\n",
    "# and the value for the property that we are trying to match. \n",
    "\n",
    "def getPolyAreaKM2(jsonData, propertyName, propertyValue):\n",
    "    \n",
    "    for feature in jsonData['features']:\n",
    "        if (feature['properties'][propertyName] == propertyValue):  \n",
    "            # Did we find the polygon with the input\n",
    "            # property value for the property name?\n",
    "            # If yes, then compute its area\n",
    "            polygon = shape(feature['geometry'])              # create a shapely polygon\n",
    "            polygon = transform(transformTo3310,polygon)      #transform the coordinates \n",
    "            area_km2 = round(polygon.area / (1000 * 1000),3)  # compute the area\n",
    "           \n",
    "            return area_km2\n",
    "\n",
    "# TEST\n",
    "# Find the area of the polygon in the sfpd_json file where the district equals Mission.\n",
    "getPolyAreaKM2(sfpd_json,'district','MISSION')"
   ]
  },
  {
   "cell_type": "markdown",
   "metadata": {},
   "source": [
    "Now that we have our function we can compute the area of each region in the **crime_sfpd** crime counts table."
   ]
  },
  {
   "cell_type": "code",
   "execution_count": null,
   "metadata": {
    "collapsed": false
   },
   "outputs": [],
   "source": [
    "# Compute the area in sq KM for each region and add it to the crime count table\n",
    "crime_sfpd['area_km2'] = crime_sfpd.apply(lambda val: getPolyAreaKM2(sfpd_json,'district',val), ['district'])\n",
    "crime_sfpd.show()"
   ]
  },
  {
   "cell_type": "markdown",
   "metadata": {
    "collapsed": true
   },
   "source": [
    "Compute density per sq kilometer as follows:"
   ]
  },
  {
   "cell_type": "code",
   "execution_count": null,
   "metadata": {
    "collapsed": false
   },
   "outputs": [],
   "source": [
    "# simple function to compute density\n",
    "def getDensity(count, area):\n",
    "    return (count / area) \n",
    "\n",
    "# test\n",
    "getDensity(crime_sfpd['crime_count'][0], crime_sfpd['area_km2'][0])"
   ]
  },
  {
   "cell_type": "markdown",
   "metadata": {},
   "source": [
    "Now apply the **getDensity** function to the **crime_sfpd** table which has the crime counts and areas for each SFPD district."
   ]
  },
  {
   "cell_type": "code",
   "execution_count": null,
   "metadata": {
    "collapsed": false
   },
   "outputs": [],
   "source": [
    "# Compute the crime density per region and add it to the crime count table\n",
    "crime_sfpd = crime_sfpd.where(crime_sfpd['district']!= 'unknown')   # don't change this - we are removing the row \n",
    "                                                                    # where the district is unkown\n",
    "crime_sfpd['crime_per_km2'] = crime_sfpd.apply(lambda count, area: getDensity(count,area), ['crime_count', 'area_km2'])\n",
    "crime_sfpd"
   ]
  },
  {
   "cell_type": "markdown",
   "metadata": {
    "collapsed": true
   },
   "source": [
    "#### Create a map of crime density per SFPD District\n"
   ]
  },
  {
   "cell_type": "code",
   "execution_count": null,
   "metadata": {
    "collapsed": false
   },
   "outputs": [],
   "source": [
    "# Create the lookup table for the map\n",
    "crime_density_per_dist = crime_sfpd.select(['district','crime_per_km2'])\n",
    "\n",
    "# Color Map the police districts by crime density\n",
    "sfpd_map.color(crime_density_per_dist, key_on='feature.properties.district', palette='YlOrRd')"
   ]
  },
  {
   "cell_type": "markdown",
   "metadata": {
    "collapsed": false
   },
   "source": [
    "### QUESTION 6\n",
    "- A. Does the density map for SF Police Districts convey the same information about the geographic distribution of crime incidents as the crime count map for these areas?\n",
    "- B. What district(s) have the highest crime densities?\n",
    "- C. What district(s) have the lowest crime densities?"
   ]
  },
  {
   "cell_type": "markdown",
   "metadata": {},
   "source": [
    "**Double-click here to replace this line with your answer.**"
   ]
  },
  {
   "cell_type": "markdown",
   "metadata": {
    "collapsed": true
   },
   "source": [
    "### QUESTION 7\n",
    "Update the cells below create a choropleth map of **crime density** within **SF Neighborhoods**.  Use the method we used above for mapping crime density in SFPD districts."
   ]
  },
  {
   "cell_type": "code",
   "execution_count": null,
   "metadata": {
    "collapsed": false
   },
   "outputs": [],
   "source": [
    "# Compute the area in sq KM for each region and add it to the crime count table\n",
    "crime_nhood['area_km2'] = ... # your code here\n",
    "crime_nhood"
   ]
  },
  {
   "cell_type": "code",
   "execution_count": null,
   "metadata": {
    "collapsed": false
   },
   "outputs": [],
   "source": [
    "# Compute the crime density per region and add it to the crime count table\n",
    "crime_nhood = crime_nhood.where(crime_nhood['nhood']!= 'unknown') # KEEP THIS!!\n",
    "crime_nhood['crime_per_km2'] = crime_nhood.apply(...) # YOUR CODE HERE\n",
    "crime_nhood.sort('crime_per_km2', descending=True)"
   ]
  },
  {
   "cell_type": "code",
   "execution_count": null,
   "metadata": {
    "collapsed": false
   },
   "outputs": [],
   "source": [
    "# Create the lookup table for the map\n",
    "crime_density_per_nhood = crime_nhood.select(['nhood','crime_per_km2'])\n",
    "\n",
    "# Color Map the police districts by crime density\n",
    "sfhoods_map.color(...) # your code here"
   ]
  },
  {
   "cell_type": "markdown",
   "metadata": {},
   "source": [
    "### QUESTION 8\n",
    "- A. Based on the map above, what two **neighborhoods** have the highest crime density in San Francisco? Make sure your map is showing neighborhoods not districts! Refer to this [neighborhood map](sf_nhoods.png) for neighborhood names.\n",
    "- B. Using the data in the table used to create the map symbology above, how many times higher is the density of neighborhood with the highest density than the second highest? Does the map convey this magnitude?\n",
    "- C. How might you change the map **symbology** to convey this magnitude of difference?"
   ]
  },
  {
   "cell_type": "markdown",
   "metadata": {},
   "source": [
    "**Double-click here to replace this line with your answer.**"
   ]
  },
  {
   "cell_type": "markdown",
   "metadata": {},
   "source": [
    "### QUESTION 9\n",
    "In the cells below enter code to create a choropleth map of crime density within **SF Census Tracts**. Use the method we used above for mapping crime density in SFPD districts."
   ]
  },
  {
   "cell_type": "code",
   "execution_count": null,
   "metadata": {
    "collapsed": true
   },
   "outputs": [],
   "source": [
    "# Compute the area in sq KM for each region and add it to the crime count table"
   ]
  },
  {
   "cell_type": "code",
   "execution_count": null,
   "metadata": {
    "collapsed": true
   },
   "outputs": [],
   "source": [
    "# Compute the crime density per region and add it to the crime count table"
   ]
  },
  {
   "cell_type": "code",
   "execution_count": null,
   "metadata": {
    "collapsed": true
   },
   "outputs": [],
   "source": [
    "# Create the lookup table for the map\n",
    "\n",
    "# Color Map the police districts by crime density\n"
   ]
  },
  {
   "cell_type": "markdown",
   "metadata": {},
   "source": [
    "### QUESTION 10\n",
    "How does the [KDE Density map of SF Crimes for Jan 2016](kde_sfcrime_density_jan2016.png), created in HW7, compare with the one created in this section for SF Census Tracts. Do they tell the same story? If not, how do they differ?"
   ]
  },
  {
   "cell_type": "markdown",
   "metadata": {},
   "source": [
    "**Double-click here to replace this line with your answer.**"
   ]
  },
  {
   "cell_type": "markdown",
   "metadata": {},
   "source": [
    "## Mapping Rates\n",
    "\n",
    "The problem with density maps is that they follow the population. So what may look like a high crime area is really a high population area. Often what we may also want to know is where is the crime incident count is high relative to the resident population. In order to compute that we need to get population data.\n",
    "\n",
    "The most common source of population data is the US Census. Since our crime indident data is from 2016 we want recent population data for the city.  We downloaded these data from the [US Census American Factfinder](http://factfinder.census.gov) website so you don't have too! Below we will join these data to  the sftracts data so that we can map crime rate per capita (or per person).\n",
    "\n",
    "\n"
   ]
  },
  {
   "cell_type": "code",
   "execution_count": null,
   "metadata": {
    "collapsed": false
   },
   "outputs": [],
   "source": [
    "# Lets take a look at the crime count per census tract table that we created previously\n",
    "crimes_per_tract.sort('tractce10')"
   ]
  },
  {
   "cell_type": "code",
   "execution_count": null,
   "metadata": {
    "collapsed": false
   },
   "outputs": [],
   "source": [
    "# Now read in the census tract population data from the **sftracts_popdata_file**\n",
    "sfpop = Table.read_table(sftracts_popdata_file, dtype={'SFTRACT': str})\n",
    "sfpop"
   ]
  },
  {
   "cell_type": "markdown",
   "metadata": {},
   "source": [
    "In the above table POPEST is the census estimate of population counts for each census tract. Also, we can see from the above table that we can join the population data to the census tract polygons based on the census tract identifier. This value is in the **SFTRACT** column of the sfpop table and the **tractce10** column of **crimes_per_tract** table. Let's join them so we can compute crime rate."
   ]
  },
  {
   "cell_type": "code",
   "execution_count": null,
   "metadata": {
    "collapsed": false
   },
   "outputs": [],
   "source": [
    "# Join pop data to crime_count table\n",
    "crime_rate_per_tract = crimes_per_tract.join('tractce10',sfpop,'SFTRACT')\n",
    "crime_rate_per_tract"
   ]
  },
  {
   "cell_type": "markdown",
   "metadata": {},
   "source": [
    "Let's join the neighborhood names to the **crime_rate_per_tract** table so we can see the areas in which high crime rates are occuring."
   ]
  },
  {
   "cell_type": "code",
   "execution_count": null,
   "metadata": {
    "collapsed": false
   },
   "outputs": [],
   "source": [
    "def getNhoodForTract(tract):\n",
    "    \n",
    "    for feature in sftracts_json['features']:\n",
    "        if (feature['properties']['tractce10'] == tract):  \n",
    "            return feature['properties']['nhood']\n",
    "\n",
    "# TEST\n",
    "# Find the area of the polygon in the sfpd_json file where the district equals Mission.\n",
    "getNhoodForTract('980900')"
   ]
  },
  {
   "cell_type": "code",
   "execution_count": null,
   "metadata": {
    "collapsed": true
   },
   "outputs": [],
   "source": [
    "# Define the getRatePer1K function\n",
    "# NOTE: If we just compute per capita crime rate the rates are tooo low to map well with defaults.\n",
    "def getRatePer1K(count,pop):\n",
    "    rate = count / (pop / 1000)\n",
    "    return rate"
   ]
  },
  {
   "cell_type": "markdown",
   "metadata": {},
   "source": [
    "### QUESTION 11\n",
    "Complete the next cell to add that to the crime_rate_per_tract table for each census tract."
   ]
  },
  {
   "cell_type": "code",
   "execution_count": null,
   "metadata": {
    "collapsed": false
   },
   "outputs": [],
   "source": [
    "# Apply the getRatePer1K function\n",
    "crime_rate_per_tract['crime_rate'] = crime_rate_per_tract.apply(...) # your code here\n",
    "crime_rate_per_tract.sort('crime_rate', descending=True)"
   ]
  },
  {
   "cell_type": "markdown",
   "metadata": {},
   "source": [
    "Now we can map crime rate per census tract!"
   ]
  },
  {
   "cell_type": "code",
   "execution_count": null,
   "metadata": {
    "collapsed": false
   },
   "outputs": [],
   "source": [
    "sftracts_map.color(crimes_per_tract, key_on='feature.properties.tractce10', palette='YlOrRd')"
   ]
  },
  {
   "cell_type": "markdown",
   "metadata": {},
   "source": [
    "### QUESTION 12\n",
    "- A. What census tract has the highest crime rate? What tract the second highest? Name these by neighborhod plus census tract identifier.\n",
    "- B. By how many times greater is it than the tract with the second highest rate? Does the map convey the magnitude of this difference?\n",
    "- C. Would you recommend increasing the police presence in both of these tracts? Explain your answer.\n",
    "- D. Do the three density maps convey the same information about geographic distribution of crime rate in San Francisco? If not why?"
   ]
  },
  {
   "cell_type": "markdown",
   "metadata": {},
   "source": [
    "**Double-click here to replace this line with your answer.**"
   ]
  },
  {
   "cell_type": "markdown",
   "metadata": {},
   "source": [
    "### QUESTION 13\n",
    "Consider the crime rate within SF Census tracts above as well as the data in the **crime_rate_per_tract** table. Describe how the information in the table helps you better interpret the map. "
   ]
  },
  {
   "cell_type": "markdown",
   "metadata": {},
   "source": [
    "**Double-click here to replace this line with your answer.**"
   ]
  },
  {
   "cell_type": "markdown",
   "metadata": {},
   "source": [
    "### QUESTION 14\n",
    "Summarize how the count, density and rate maps depict the geographic distribution of crime in San Francisco differently. Do the maps of the different neighborhoods demonstrate the [MAUP](http://gispopsci.org/maup) problem?"
   ]
  },
  {
   "cell_type": "markdown",
   "metadata": {},
   "source": [
    "**Double-click here to replace this line with your answer.**"
   ]
  },
  {
   "cell_type": "markdown",
   "metadata": {},
   "source": [
    "## References\n",
    "SF Current Police Districts\n",
    "https://data.sfgov.org/api/geospatial/wkhw-cjsf?method=export&format=GeoJSON\n",
    "\n",
    "SF Analysis Neighborhoods\n",
    "https://data.sfgov.org/api/geospatial/p5b7-5n3h?method=export&format=GeoJSON\n",
    "\n",
    "SF Census tracts w/neighborhoods\n",
    "https://data.sfgov.org/api/geospatial/bwbp-wk3r?method=export&format=GeoJSON\n",
    "\n",
    "SF crime incidents\n",
    "https://data.sfgov.org/api/geospatial/wkhw-cjsf?method=export&format=GeoJSON\n",
    "\n",
    "SF Population data\n",
    "http://factfinder.census.gov"
   ]
  },
  {
   "cell_type": "markdown",
   "metadata": {
    "collapsed": true
   },
   "source": [
    "## WHAT TO SUBMIT\n",
    "\n",
    "- Download your completed notebook, zip it and upload on bcourses by 5pm Tuesday, **April 19, 2016**.\n",
    "- ** Please add your name to your notebook title!**"
   ]
  },
  {
   "cell_type": "code",
   "execution_count": null,
   "metadata": {
    "collapsed": true
   },
   "outputs": [],
   "source": []
  }
 ],
 "metadata": {
  "kernelspec": {
   "display_name": "Python 3",
   "language": "python",
   "name": "python3"
  },
  "language_info": {
   "codemirror_mode": {
    "name": "ipython",
    "version": 3
   },
   "file_extension": ".py",
   "mimetype": "text/x-python",
   "name": "python",
   "nbconvert_exporter": "python",
   "pygments_lexer": "ipython3",
   "version": "3.4.3"
  }
 },
 "nbformat": 4,
 "nbformat_minor": 0
}
