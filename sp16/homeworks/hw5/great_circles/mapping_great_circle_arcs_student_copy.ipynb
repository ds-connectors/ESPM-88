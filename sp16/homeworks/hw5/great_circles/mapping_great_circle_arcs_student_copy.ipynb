{
 "cells": [
  {
   "cell_type": "markdown",
   "metadata": {},
   "source": [
    "## Mapping Great Circle Arcs\n",
    "\n",
    "The shortest path between two points on a sphere is the minor arc of a **great circle** that passes through both points and the center of the sphere. Great circle arcs are also called **geodesic lines**. This notebook explores creating and mapping [great circle](https://en.wikipedia.org/wiki/Great_circle) arcs - follow that link to read about them on Wikipedia."
   ]
  },
  {
   "cell_type": "code",
   "execution_count": null,
   "metadata": {
    "collapsed": false
   },
   "outputs": [],
   "source": [
    "# Import the python libraries we weill use\n",
    "from datascience import *\n",
    "import folium\n",
    "import numpy as np\n",
    "import pyproj\n",
    "\n",
    "# Simple function to show folium maps inline\n",
    "from IPython.display import HTML\n",
    "\n",
    "def inline_map(m, height=500):\n",
    "    \"\"\"Takes a folium instance and embed HTML.\"\"\"\n",
    "    m._build_map()\n",
    "    srcdoc = m.HTML.replace('\"', '&quot;')\n",
    "    embed = HTML('<iframe srcdoc=\"{0}\" '\n",
    "                 'style=\"width: 100%; height: {1}px; '\n",
    "                 'border: none\"></iframe>'.format(srcdoc, height))\n",
    "    return embed"
   ]
  },
  {
   "cell_type": "markdown",
   "metadata": {},
   "source": [
    "## Plotting a flight path\n",
    "\n",
    "Let's assume airplanes fly along great circle paths because the want the shortest route. We can identify the points for two airports, Seattle and London, and then plot the line between them on a map."
   ]
  },
  {
   "cell_type": "code",
   "execution_count": null,
   "metadata": {
    "collapsed": true
   },
   "outputs": [],
   "source": [
    "# Identify the coordinates for two locations - Seattle and London \n",
    "Seattle = (47.606, -122.33)\n",
    "London = (51.5, 0.0)\n"
   ]
  },
  {
   "cell_type": "code",
   "execution_count": null,
   "metadata": {
    "collapsed": false
   },
   "outputs": [],
   "source": [
    "# Create a map using folium\n",
    "ctr_lon = np.mean([Seattle[1], London[1]]) # calculate the center of longitude values\n",
    "ctr_lat = np.mean([Seattle[0], London[0]]) # center of lat values\n",
    "\n",
    "m = folium.Map([ctr_lat, ctr_lon], zoom_start=2) # set the map center and zoom level\n",
    "\n",
    "# Add the line to the map\n",
    "m.line(locations=[Seattle, London], popup=\"Straight line distance on plane\", line_color='blue', line_opacity=1.0)\n",
    "\n",
    "inline_map(m)\n"
   ]
  },
  {
   "cell_type": "markdown",
   "metadata": {},
   "source": [
    "Now that line doesn't look like the kind of flight path you would see illustrated in an airline magazine. That's because with only two points the map cannot create a curved line on a flat map. We need to add some points along the line of a [great circle](https://en.wikipedia.org/wiki/Great_circle).  One way to do this is with the **pyproj** library.  Read the comments below to see how this is done. Also refer to the [pyproj](http://jswhit.github.io/pyproj/) online documentation to read abou the specific functions used below."
   ]
  },
  {
   "cell_type": "code",
   "execution_count": null,
   "metadata": {
    "collapsed": false
   },
   "outputs": [],
   "source": [
    "# Calculate great circle arcs between points\n",
    "\n",
    "g = pyproj.Geod(ellps='WGS84')  # Create a WGS84 CRS object\n",
    "\n",
    "startlong = Seattle[1]  \n",
    "startlat = Seattle[0]  \n",
    "endlong = London[1]  \n",
    "endlat = London[0]  \n",
    "\n",
    "# Use the g.inv function to compute the bearing to and from each point as well as the distance between the points\n",
    "(bearing_pt1_to_pt2, bearing_pt2_to_pt1, distance_pt1_to_pt2) = g.inv(startlong, startlat, endlong, endlat)\n",
    "\n",
    "# Use the g.npts function to calculate a line string along the path between these points adding points every 10000 km\n",
    "lonlats = g.npts(startlong, startlat, endlong, endlat,\n",
    "                 1 + int(distance_pt1_to_pt2 / 10000))\n",
    "\n",
    "# g.npts doesn't include start/end points, so prepend/append them\n",
    "lonlats.insert(0, (startlong, startlat))\n",
    "lonlats.append((endlong, endlat))\n",
    "\n",
    "# Print the output from these functions\n",
    "print('Distance in km: ', distance_pt1_to_pt2 / 1000)\n",
    "print('Bearing_pt1_to_pt2: ', bearing_pt1_to_pt2)\n",
    "print('Bearing_pt2_to_pt1: ', bearing_pt2_to_pt1)"
   ]
  },
  {
   "cell_type": "markdown",
   "metadata": {},
   "source": [
    "Take a look at the coordinates returned by **g.npts**. They are in lonlat order but the **folium** mapping library needs them in latlon order. We can use a simple numpy function **fliplr** to reverse the order.\n"
   ]
  },
  {
   "cell_type": "code",
   "execution_count": null,
   "metadata": {
    "collapsed": false
   },
   "outputs": [],
   "source": [
    "print(lonlats)"
   ]
  },
  {
   "cell_type": "code",
   "execution_count": null,
   "metadata": {
    "collapsed": false
   },
   "outputs": [],
   "source": [
    "# flip the order of the lonlats to latlon\n",
    "\n",
    "latlons = np.fliplr(lonlats)\n",
    "print(len(latlons))\n",
    "print(latlons)\n"
   ]
  },
  {
   "cell_type": "markdown",
   "metadata": {},
   "source": [
    "### Plotting Great Circles\n",
    "\n",
    "Now that we have the points for the curved line of a great circle arc we can plot it on our map.  This is the flight path that a plane would take if it wanted to fly along the shortest route."
   ]
  },
  {
   "cell_type": "code",
   "execution_count": null,
   "metadata": {
    "collapsed": false,
    "scrolled": true
   },
   "outputs": [],
   "source": [
    "m = folium.Map([ctr_lat, ctr_lon], zoom_start=2)\n",
    "\n",
    "m.line(locations=latlons,popup = ('Geodesic line on sphere'), line_color='red', line_opacity=1.0)\n",
    "\n",
    "m.line(locations=[Seattle, London], popup=\"Straight line distance on plane\", line_color='blue', line_opacity=1.0)\n",
    "\n",
    "inline_map(m)"
   ]
  },
  {
   "cell_type": "markdown",
   "metadata": {},
   "source": [
    "## Question 1\n",
    "Why do we need to compute the points along the great circle arc using the WGS84 projection? What does *geodesic* mean?"
   ]
  },
  {
   "cell_type": "markdown",
   "metadata": {
    "collapsed": true
   },
   "source": [
    "### Double-click  here to input your answer to Question 1 in this cell.\n",
    "\n",
    "\n",
    "\n"
   ]
  },
  {
   "cell_type": "markdown",
   "metadata": {},
   "source": [
    "# Part 2 - Got to Get Away\n",
    "Let's expand on this work and create a flight path map for all flights from San Francisco International Airport (SFO). We will load a table of airport locations and then one of airport routes.  These data are from http://openflights.org"
   ]
  },
  {
   "cell_type": "code",
   "execution_count": null,
   "metadata": {
    "collapsed": false
   },
   "outputs": [],
   "source": [
    "airports = Table.read_table(\"./airports.csv\")"
   ]
  },
  {
   "cell_type": "code",
   "execution_count": null,
   "metadata": {
    "collapsed": false
   },
   "outputs": [],
   "source": [
    "airports\n"
   ]
  },
  {
   "cell_type": "markdown",
   "metadata": {},
   "source": [
    "Let's remove some unneeded columns from the airports table to make it more readable."
   ]
  },
  {
   "cell_type": "code",
   "execution_count": null,
   "metadata": {
    "collapsed": false
   },
   "outputs": [],
   "source": [
    "# Subset the airports table \n",
    "airport_locs = airports.select(['code_iata','latitude','longitude','country'])\n",
    "\n",
    "airport_locs\n"
   ]
  },
  {
   "cell_type": "markdown",
   "metadata": {},
   "source": [
    "Now we will load in a table of routes. This table listes the airline, start airport and end, or destination, airport as well as other data about these routes."
   ]
  },
  {
   "cell_type": "code",
   "execution_count": null,
   "metadata": {
    "collapsed": false
   },
   "outputs": [],
   "source": [
    "routes = Table.read_table(\"./routes.csv\")"
   ]
  },
  {
   "cell_type": "code",
   "execution_count": null,
   "metadata": {
    "collapsed": false
   },
   "outputs": [],
   "source": [
    "routes\n"
   ]
  },
  {
   "cell_type": "markdown",
   "metadata": {},
   "source": [
    "Let's subset the routes data to select only routes where the start airport is SFO and the codeshare value does not equal yes (y). Code sharing really complicates this as multiple airlines can claim the same flight."
   ]
  },
  {
   "cell_type": "code",
   "execution_count": null,
   "metadata": {
    "collapsed": false
   },
   "outputs": [],
   "source": [
    "sfo_departures = routes.where(routes['airport_st'] == 'SFO')\n",
    "sfo_departures = sfo_departures.where(sfo_departures['codeshare'] != 'Y')"
   ]
  },
  {
   "cell_type": "code",
   "execution_count": null,
   "metadata": {
    "collapsed": false
   },
   "outputs": [],
   "source": [
    "sfo_departures"
   ]
  },
  {
   "cell_type": "markdown",
   "metadata": {},
   "source": [
    "We can retrieve and store the latitude and longitude coordinates for SFO because we only have one departure airline. But, we need to add the coordinates for all the destination airports so that we can map the routes. We can do that by joining the **airport_locs** table to the **sfo_departures** table."
   ]
  },
  {
   "cell_type": "code",
   "execution_count": null,
   "metadata": {
    "collapsed": false
   },
   "outputs": [],
   "source": [
    "# Get the lat,lon coordinates for SFO\n",
    "sfo_lon = airports.where(airports['code_iata']=='SFO')['longitude'][0]\n",
    "sfo_lat = airports.where(airports['code_iata']=='SFO')['latitude'][0]\n",
    "print(\"SFO: %.4f latitude, %.4f longitude\" % (sfo_lat, sfo_lon) )"
   ]
  },
  {
   "cell_type": "code",
   "execution_count": null,
   "metadata": {
    "collapsed": false
   },
   "outputs": [],
   "source": [
    "# Add the destination coordinates to the sfo_departures table.\n",
    "# Then rename the columns so we can remember what the values mean.\n",
    "sfo_departures = sfo_departures.join('airport_end',airport_locs,'code_iata')\n",
    "sfo_departures.relabel('latitude', 'dest_lat')\n",
    "sfo_departures.relabel('longitude', 'dest_lon')\n",
    "sfo_departures.relabel('country', 'dest_country')"
   ]
  },
  {
   "cell_type": "markdown",
   "metadata": {},
   "source": [
    "### No Passport, No Problem\n",
    "Let's limit the geographic extent of our destinations and only select destination airports in the United States."
   ]
  },
  {
   "cell_type": "code",
   "execution_count": null,
   "metadata": {
    "collapsed": false
   },
   "outputs": [],
   "source": [
    "sfo_departures_usa = sfo_departures.where('dest_country','United States')\n",
    "sfo_departures_usa\n"
   ]
  },
  {
   "cell_type": "markdown",
   "metadata": {},
   "source": [
    "## Question 2\n",
    "Use the next two code cells to complete the **addRouteToMap** function. Then use it to add each route in the **sfo_departures_usa** table to a folium map.  Use the **pyproj** code to calculate great circle arcs to create the lines."
   ]
  },
  {
   "cell_type": "code",
   "execution_count": null,
   "metadata": {
    "collapsed": false
   },
   "outputs": [],
   "source": [
    "#def addRouteToMap(the_map, start_airport, dest_airport):\n",
    "\n",
    "    # Add Your code below\n",
    "    \n",
    "    # First get the coords for the start and dest airports\n",
    "    \n",
    "    # Second, Calculate great circle arcs between points\n",
    "    \n",
    "    # Third, reverse the order of the coordinates\n",
    "    \n",
    "    # Then, add the coordinates for this route to the map\n",
    "    ## the_map.line(....)\n",
    "    \n",
    "\n"
   ]
  },
  {
   "cell_type": "code",
   "execution_count": null,
   "metadata": {
    "collapsed": false
   },
   "outputs": [],
   "source": [
    "# Map the Routes\n",
    "# Add your code to this cell - uncomment lines as needed\n",
    "\n",
    "# First calculate the map center coordinates\n",
    "## ctr_lat =  \n",
    "## ctr_lon =  \n",
    "\n",
    "# Create the map\n",
    "## m = folium.Map(...) \n",
    "\n",
    "# Add the lines to the map\n",
    "## sfo_departures_usa.apply(lambda x, y: addRouteToMap(m, x, y) , ['airport_st', 'airport_end'])\n",
    "\n",
    "# Display the map\n",
    "## inline_map(m)"
   ]
  },
  {
   "cell_type": "markdown",
   "metadata": {
    "collapsed": true
   },
   "source": [
    "## Question 3 - Optional. Mapping all Routes for one Airline\n",
    "### *This is an extra credit question - up to 5 pts extra credit.*\n",
    "\n",
    "Build off the the code above to:\n",
    "- Select all routes served by United Airlines (IATA code UA) to create a ua_routes table.\n",
    "- Add start_lat, start_lon and start_country to the ua_routes table.\n",
    "- Add end_lat, end_lot, and end_country to the ua_routes table.\n",
    "- Remove any routes that are codeshare = Y and any routes that start or end outside of the United States.\n",
    "- Map the routes - centering the map on the center lat and lon of all routes.\n",
    "\n",
    "Show your work in the cells below. Uncomment and add code as needed."
   ]
  },
  {
   "cell_type": "code",
   "execution_count": null,
   "metadata": {
    "collapsed": false
   },
   "outputs": [],
   "source": [
    "# Get the United Airlines (US) Routes\n",
    "## ua_routes = ...\n",
    "\n",
    "# Join with airport_locs to add the destination airport coordinates\n",
    "##ua_routes = ...\n",
    "##ua_routes.relabel(...)\n",
    "##ua_routes.relabel(...)\n",
    "##ua_routes.relabel(...)\n",
    "\n",
    "# Join with airport_locs to add the TAKE-OFF airport coordinates\n",
    "##ua_routes = ...\n",
    "##ua_routes.relabel(...)\n",
    "##ua_routes.relabel(...)\n",
    "##ua_routes.relabel(...)\n",
    "\n",
    "# Limit to USA origins and destinations\n",
    "##ua_routes_usa = ua_routes.where(np.logical_and(...))\n",
    "\n",
    "# Remove code sharing routes\n",
    "##ua_routes_usa = ua_routes_usa.where(...)\n",
    "##ua_routes_usa"
   ]
  },
  {
   "cell_type": "code",
   "execution_count": null,
   "metadata": {
    "collapsed": true
   },
   "outputs": [],
   "source": [
    "# Function to map all routes for an airline\n",
    "##def addRouteToMap2(the_map, start, dest):\n",
    "    \n",
    "    # YOUR CODE HERE\n",
    "    \n",
    "    \n",
    "    ##the_map.line(...)\n",
    "    "
   ]
  },
  {
   "cell_type": "code",
   "execution_count": null,
   "metadata": {
    "collapsed": false
   },
   "outputs": [],
   "source": [
    "# Map the routes\n",
    "\n",
    "# Get the map center coordinates\n",
    "##ctr_lat = ...\n",
    "##ctr_lon = ...\n",
    "\n",
    "# Create the map\n",
    "##m = folium.Map(...) \n",
    "\n",
    "# Map the routes\n",
    "##ua_routes_usa.apply(...)\n",
    " \n",
    "# Show the map\n",
    "##inline_map(m)"
   ]
  },
  {
   "cell_type": "markdown",
   "metadata": {
    "collapsed": true
   },
   "source": [
    "## Question 4\n",
    "\n",
    "Let's explore a route that is outside of the United States. Using the simple method above for mapping the great circle path between Seattle and London, create a map of the great circle path between the SFO and the Hong Kong International Airport (HKG). You can get the HKG coordinates from the airports table. What problem do you see with this route? Is this route the minor arc of a great circle? If not what is it and what is causing the problem? Show your code for mapping the route and your discussion in the two cells below.\n"
   ]
  },
  {
   "cell_type": "code",
   "execution_count": null,
   "metadata": {
    "collapsed": true
   },
   "outputs": [],
   "source": [
    "# Add your code for Question 4 to this cell."
   ]
  },
  {
   "cell_type": "markdown",
   "metadata": {},
   "source": [
    "## Double-click on this Markdown cell to add your comments for Question 4."
   ]
  },
  {
   "cell_type": "code",
   "execution_count": null,
   "metadata": {
    "collapsed": true
   },
   "outputs": [],
   "source": []
  },
  {
   "cell_type": "markdown",
   "metadata": {},
   "source": [
    "## What to submit via bCourses\n",
    "\n",
    "Submit a zip file containing the following:\n",
    "- your completed notebook as an *.ipynb document\n",
    "- your notebook as a PDF file\n",
    "\n",
    "\n",
    "### Due Date: Monday, March 14, 2016 at 4pm."
   ]
  },
  {
   "cell_type": "markdown",
   "metadata": {},
   "source": [
    "### Acknowledgements\n",
    "This notebook is based on http://blog.cartodb.com/jets-and-datelines."
   ]
  },
  {
   "cell_type": "code",
   "execution_count": null,
   "metadata": {
    "collapsed": true
   },
   "outputs": [],
   "source": []
  }
 ],
 "metadata": {
  "kernelspec": {
   "display_name": "Python 3",
   "language": "python",
   "name": "python3"
  },
  "language_info": {
   "codemirror_mode": {
    "name": "ipython",
    "version": 3
   },
   "file_extension": ".py",
   "mimetype": "text/x-python",
   "name": "python",
   "nbconvert_exporter": "python",
   "pygments_lexer": "ipython3",
   "version": "3.5.1"
  }
 },
 "nbformat": 4,
 "nbformat_minor": 0
}
