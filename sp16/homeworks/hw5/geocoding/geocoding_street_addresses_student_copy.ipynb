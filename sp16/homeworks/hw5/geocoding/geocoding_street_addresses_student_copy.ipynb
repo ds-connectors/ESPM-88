{
 "cells": [
  {
   "cell_type": "markdown",
   "metadata": {},
   "source": [
    "# Geocoding: Determining the Geographic Coordinates of Street Addresses\n",
    "\n",
    "Geocoding is the process of determining the geographic coordinates of a place name, code, or street address. In this exercise we focus on street addresses. This notebook explores this process using the **geopy** library. \n",
    "\n",
    "Address geocoding requires a set of *properly formatted addresses* as input. The proper format for these addresses is the one required by the geocoding software.  The geocoding software parses the input addresses and compares them to a reference database of street, parcel, or building locations. Reference databases are typically street centerlines that contain the start and end addresses for each side of the street for each street block. Once the street block that matches the input address is found, linear interpolation is used to estimate the coordinates.\n",
    "\n",
    "Needless to say, some geocoders do better than others at estimating location. The accuracy is highly dependent on the accuracy of the underlying reference database as well as the sophistication of a geocoder's algorithms for parsing addresses and interpolating location.  Let's take a look at this process and map the results."
   ]
  },
  {
   "cell_type": "code",
   "execution_count": null,
   "metadata": {
    "collapsed": true
   },
   "outputs": [],
   "source": [
    "# First, load libraries\n",
    "from datascience import *\n",
    "from geopy import *\n",
    "from geopy.distance import vincenty\n",
    "import numpy as np\n",
    "import folium\n",
    "\n",
    "# Simple function to show folium maps inline\n",
    "from IPython.display import HTML\n",
    "\n",
    "def inline_map(m, height=500):\n",
    "    \"\"\"Takes a folium instance and embed HTML.\"\"\"\n",
    "    m._build_map()\n",
    "    srcdoc = m.HTML.replace('\"', '&quot;')\n",
    "    embed = HTML('<iframe srcdoc=\"{0}\" '\n",
    "                 'style=\"width: 100%; height: {1}px; '\n",
    "                 'border: none\"></iframe>'.format(srcdoc, height))\n",
    "    return embed"
   ]
  },
  {
   "cell_type": "markdown",
   "metadata": {},
   "source": [
    "## The Addresses to Geocode\n",
    "First, read in the file of ten addresses. Take a minute to look at the CSV file to see how the addresses are formatted."
   ]
  },
  {
   "cell_type": "code",
   "execution_count": null,
   "metadata": {
    "collapsed": false
   },
   "outputs": [],
   "source": [
    "my_addresses = Table.read_table('ten_addresses_comma.csv')\n",
    "my_addresses\n"
   ]
  },
  {
   "cell_type": "markdown",
   "metadata": {},
   "source": [
    "### Nominatim - the OpenStreetMap Geocoder\n",
    "\n",
    "Take a look at the [Geopy](https://geopy.readthedocs.org/en/1.10.0/) documentation for geocoding using the [Nominatim](http://wiki.openstreetmap.org/wiki/Nominatim) geocoder. Nominatim uses OpenStreetMap data as the reference database. We like Nominatim because it is based on free and open source (FOSS) data and does not require an API key. Moreover, if you use one of Nominatim's partner server [MapquestOpen](http://open.mapquestapi.com/geocoding/) there are no restrictions on the number of addresses you can geocode or the ways in which you can use the geocoding results.\n",
    "\n",
    "We will start by geocoding one address using the Geopy library to access Nominatim."
   ]
  },
  {
   "cell_type": "code",
   "execution_count": null,
   "metadata": {
    "collapsed": false
   },
   "outputs": [],
   "source": [
    "# Fetch one address from our table\n",
    "one_address = my_addresses['address'][0]\n",
    "print(\"Here is the input address:\", one_address)\n",
    "\n",
    "nominatim_geolocator = Nominatim() # create a Nominatim geocoder object\n",
    "\n",
    "nlocation = nominatim_geolocator.geocode(one_address) # geocode our one address\n",
    "print(\"\\nHere is the address that Nominatim geocoded:\\n\", nlocation.address)\n",
    "print(\"\\nAddress latitude: %.4f and longitude: %.4f\" % (nlocation.latitude, nlocation.longitude))\n",
    "print(\"\\nRaw Nominatim ouput:\\n\",nlocation.raw)"
   ]
  },
  {
   "cell_type": "markdown",
   "metadata": {},
   "source": [
    "### Interpreting the output\n",
    "You can see from above that the geocoder standardizes the address before geocoding. It also returns a lot of output for each address. You can read about each value returned on the Nominatim geocoding page."
   ]
  },
  {
   "cell_type": "markdown",
   "metadata": {},
   "source": [
    "## Reverse Geocoding\n",
    "Reverse geocoding is the process of determining the address for geographic coordinates. You can also do this with the Nominatim geocoder. See the example below."
   ]
  },
  {
   "cell_type": "code",
   "execution_count": null,
   "metadata": {
    "collapsed": false
   },
   "outputs": [],
   "source": [
    "nominatim_geolocator.reverse((37.7548032228341, -122.124999975319))\n",
    " "
   ]
  },
  {
   "cell_type": "markdown",
   "metadata": {},
   "source": [
    "## Batch Geocoding\n",
    "\n",
    "Now that we have figured out how to use the Nominatim geocoder, let's create a function so that we can apply it to a table, or batch, of addresses and then map the output.  This process is shown below."
   ]
  },
  {
   "cell_type": "code",
   "execution_count": null,
   "metadata": {
    "collapsed": true
   },
   "outputs": [],
   "source": [
    "# A simple function to get the coordinates for one address\n",
    "def getPoint(one_address, the_locator):\n",
    "    print('Using [%s] to geocode this address [%s]'% (the_locator.api,one_address))\n",
    "    location = the_locator.geocode(one_address)\n",
    "    pointAsArray =  (location.latitude, location.longitude)\n",
    "    return pointAsArray"
   ]
  },
  {
   "cell_type": "code",
   "execution_count": null,
   "metadata": {
    "collapsed": false
   },
   "outputs": [],
   "source": [
    "#Test the function with our one address\n",
    "getPoint(one_address, nominatim_geolocator)"
   ]
  },
  {
   "cell_type": "markdown",
   "metadata": {},
   "source": [
    "## Storing our results\n",
    "Let's apply our function to the table of addresses and store the output in a new column in the table called **nom_geom** where **nom** reminds us that the coordinates are from the Nominatim geocoding service.  Since geocoding is a service that uses system resources and which typically is limited, one should always save the results when that is allowed by the terms of service, rather than repeatedly requesting the same data."
   ]
  },
  {
   "cell_type": "code",
   "execution_count": null,
   "metadata": {
    "collapsed": false
   },
   "outputs": [],
   "source": [
    "# Apply the function to our table of addresses\n",
    "my_addresses['nom_geom'] = my_addresses.apply(lambda x: getPoint(x,nominatim_geolocator), ['address'])"
   ]
  },
  {
   "cell_type": "code",
   "execution_count": null,
   "metadata": {
    "collapsed": false
   },
   "outputs": [],
   "source": [
    "my_addresses"
   ]
  },
  {
   "cell_type": "markdown",
   "metadata": {},
   "source": [
    "### Map the results\n",
    "We can write a  little function to map the results of the geocoded addresses. By adding a popup we can see what the address is at each location."
   ]
  },
  {
   "cell_type": "code",
   "execution_count": null,
   "metadata": {
    "collapsed": false
   },
   "outputs": [],
   "source": [
    "def mapMyPoint(the_map, the_point, the_address, m_color='blue'):\n",
    "    the_map.simple_marker(location=the_point, popup=the_address, marker_color=m_color)"
   ]
  },
  {
   "cell_type": "code",
   "execution_count": null,
   "metadata": {
    "collapsed": false
   },
   "outputs": [],
   "source": [
    "ctr_lat = np.mean(my_addresses['nom_geom'][:, 0]) # find the average of all latitude values in the array\n",
    "ctr_lon = np.mean(my_addresses['nom_geom'][:, 1]) # find the average of all longitude values in the array\n",
    "\n",
    "m = folium.Map([ctr_lat, ctr_lon], zoom_start=15)\n",
    "\n",
    "my_addresses.apply(lambda x,y: mapMyPoint(m, x,y), ['nom_geom','address'])\n",
    " \n",
    "inline_map(m)"
   ]
  },
  {
   "cell_type": "markdown",
   "metadata": {
    "collapsed": true
   },
   "source": [
    "## Saving your output\n",
    "Once you have geocoded a set of addresses you typically want to save your output. The Tables module has a **to_csv** method but it cannot write columns that contain arrays like *nom_geom*. So we will create a lat and lon column to hold those values for each address."
   ]
  },
  {
   "cell_type": "code",
   "execution_count": null,
   "metadata": {
    "collapsed": false
   },
   "outputs": [],
   "source": [
    "my_addresses['nom_lon'] = my_addresses['nom_geom'][:,1]\n",
    "my_addresses['nom_lat'] = my_addresses['nom_geom'][:,0]\n",
    "my_addresses"
   ]
  },
  {
   "cell_type": "code",
   "execution_count": null,
   "metadata": {
    "collapsed": false
   },
   "outputs": [],
   "source": [
    "# Subset the table before writing\n",
    "my_address_coords = my_addresses.select(['id','address','nom_lon','nom_lat'])\n",
    "my_address_coords.to_csv('my_geocoded_addresses.csv')"
   ]
  },
  {
   "cell_type": "markdown",
   "metadata": {},
   "source": [
    "## The Google Geocoder\n",
    "\n",
    "The [Google Geocoder](https://developers.google.com/maps/documentation/geocoding/) is the gold standard for hiqh quality geocoding.  This service does not come cheap! Google limits folks to 2,500 addresses per day for free geocoding. That can be a significant barrier for many business and research applications where 1 million or more addresses may need geocoding. Before paying for geocoding services, it is a good idea to see how the results differ from free services like Nominatim.\n",
    "\n",
    "The code below geocodes one address using Google Geocoder and then uses the Geopy's Vincenty function to compute the distance between the location returned by Google and by Nominatim."
   ]
  },
  {
   "cell_type": "code",
   "execution_count": null,
   "metadata": {
    "collapsed": false
   },
   "outputs": [],
   "source": [
    "# Geocode one address with the google geocoder\n",
    "print(\"Here is the input address:\", one_address)\n",
    "\n",
    "google_geolocator = GoogleV3() # create a Google geocoder object\n",
    "\n",
    "glocation = google_geolocator.geocode(one_address) # geocode our one address\n",
    "print(\"\\nHere is the address that Google geocoded:\\n\", glocation.address)\n",
    "print(\"\\nAddress latitude: %.4f and longitude: %.4f\" % (glocation.latitude, glocation.longitude))\n",
    "print(\"\\nRaw Google ouput:\\n\",glocation.raw)"
   ]
  },
  {
   "cell_type": "markdown",
   "metadata": {},
   "source": [
    "### Google Geocoder Output\n",
    "Take a look at the output returned by the Google geocoder above. It is much more extensive than that from Nominatim. Take a look at the Google docs for details."
   ]
  },
  {
   "cell_type": "markdown",
   "metadata": {},
   "source": [
    "## Question 1\n",
    "What is the value for **glocation.raw['geometry']['location_type']** and what does it mean?\n"
   ]
  },
  {
   "cell_type": "markdown",
   "metadata": {},
   "source": [
    "### Double-click on this markdown cell to input your answer to Question 1.\n",
    "\n"
   ]
  },
  {
   "cell_type": "markdown",
   "metadata": {},
   "source": [
    "## Computing Vincenty Distance\n",
    "We used the geopy's vincenty function in an earlier exercise to compute ellipsoidal distances. Let's use it now to compare geocoder results."
   ]
  },
  {
   "cell_type": "code",
   "execution_count": null,
   "metadata": {
    "collapsed": false
   },
   "outputs": [],
   "source": [
    "# Compute the distance between the Google and Nominatim Output\n",
    "gloc = (glocation.latitude, glocation.longitude)\n",
    "nloc = (nlocation.latitude, nlocation.longitude)\n",
    "print(vincenty(nloc, gloc).feet)"
   ]
  },
  {
   "cell_type": "markdown",
   "metadata": {},
   "source": [
    "### Mapping the difference\n",
    "Wow, a 120 feet difference in the geographic locations returned by the two geocoders can be quite signifcant depending on your application.  Let's map the difference between these two points for the same address.\n"
   ]
  },
  {
   "cell_type": "code",
   "execution_count": null,
   "metadata": {
    "collapsed": false
   },
   "outputs": [],
   "source": [
    "# Add the google geocoded address location to the map we previously created.\n",
    "m.simple_marker(location=gloc, popup=glocation.address, marker_color='red')\n",
    "inline_map(m)"
   ]
  },
  {
   "cell_type": "markdown",
   "metadata": {},
   "source": [
    "## Question 2\n",
    "- Geocode the my_addresses table using the Google Geolocator. \n",
    "- Add the output coordinates to the my_addresses table.\n",
    "- Compute the vincenty difference in feet between the Google and Nominatim results for all addresses in the my_address table and add those differences to the my_addresses table.\n",
    "- Map the Google and Nominatim locations on the same map using two different marker colors.\n",
    "\n",
    "Show your work in the cells below. Use as many cells as you need - add more if needed."
   ]
  },
  {
   "cell_type": "code",
   "execution_count": null,
   "metadata": {
    "collapsed": true
   },
   "outputs": [],
   "source": []
  },
  {
   "cell_type": "code",
   "execution_count": null,
   "metadata": {
    "collapsed": true
   },
   "outputs": [],
   "source": []
  },
  {
   "cell_type": "code",
   "execution_count": null,
   "metadata": {
    "collapsed": true
   },
   "outputs": [],
   "source": []
  },
  {
   "cell_type": "markdown",
   "metadata": {},
   "source": [
    "## Question 3\n",
    "- 3.a. What is the average difference in feet for the address locations returned by the two geocoders?\n",
    "- 3.b. What address has the greatest difference in location returned by the two geocoders?\n",
    "- 3.c. Can you think of any reasons why this address may be difficult to geocode?"
   ]
  },
  {
   "cell_type": "code",
   "execution_count": null,
   "metadata": {
    "collapsed": true
   },
   "outputs": [],
   "source": [
    "# Input your code for 3.a and 3.b in this cell\n"
   ]
  },
  {
   "cell_type": "markdown",
   "metadata": {},
   "source": [
    "### Double-click on this markdown cell to input your answer to Question 3.c.\n"
   ]
  },
  {
   "cell_type": "markdown",
   "metadata": {},
   "source": [
    "## Question 4\n",
    "\n",
    "- Create a CSV file of addresses of the 19 Oakland Public Libraries listed on this website: http://oaklandlibrary.org/using-library/locations-hours.  The library addresses are also listed on this [PDF](http://www.oaklandlibrary.org/sites/default/files/uploads/location%20guide%2002_21_13%20inside_0.pdf) file.\n",
    " - You can create the CSV file by creating a new Google Sheet document and saving as CSV.\n",
    "- Read the CSV file into this notebook.\n",
    "- Geocode your addresses using the Google geocoder.\n",
    "- Create a map of your geocoded addresses.\n",
    "- Output the geocoded addresses to a CSV file with the latitude and longitude values returned by the geocoder.\n",
    "- Show your work in the cells below. Add more cells if needed\n"
   ]
  },
  {
   "cell_type": "code",
   "execution_count": null,
   "metadata": {
    "collapsed": true
   },
   "outputs": [],
   "source": []
  },
  {
   "cell_type": "code",
   "execution_count": null,
   "metadata": {
    "collapsed": true
   },
   "outputs": [],
   "source": []
  },
  {
   "cell_type": "code",
   "execution_count": null,
   "metadata": {
    "collapsed": true
   },
   "outputs": [],
   "source": []
  },
  {
   "cell_type": "markdown",
   "metadata": {},
   "source": [
    "## What to submit via bCourses\n",
    "\n",
    "Submit a zip file containing the following:\n",
    "- your completed notebook as an *.ipynb document\n",
    "- your notebook as a PDF file\n",
    "- your output CSV file from Question 4\n",
    "\n",
    "### Due Date: Monday, March 14, 2016 at 4pm.\n"
   ]
  },
  {
   "cell_type": "code",
   "execution_count": null,
   "metadata": {
    "collapsed": true
   },
   "outputs": [],
   "source": []
  }
 ],
 "metadata": {
  "kernelspec": {
   "display_name": "Python 3",
   "language": "python",
   "name": "python3"
  },
  "language_info": {
   "codemirror_mode": {
    "name": "ipython",
    "version": 3
   },
   "file_extension": ".py",
   "mimetype": "text/x-python",
   "name": "python",
   "nbconvert_exporter": "python",
   "pygments_lexer": "ipython3",
   "version": "3.5.1"
  }
 },
 "nbformat": 4,
 "nbformat_minor": 0
}
