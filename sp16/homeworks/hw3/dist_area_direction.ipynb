{
 "cells": [
  {
   "cell_type": "code",
   "execution_count": 19,
   "metadata": {
    "collapsed": false
   },
   "outputs": [
    {
     "data": {
      "text/plain": [
       "0"
      ]
     },
     "execution_count": 19,
     "metadata": {},
     "output_type": "execute_result"
    }
   ],
   "source": [
    "# HIDDEN\n",
    "from datascience import *\n",
    "import math\n",
    "import numpy as np\n",
    "from geopy.distance import vincenty # Used to calculate distances on an ellipsoid\n",
    "import json\n",
    "\n",
    "from osgeo import ogr, osr, gdal\n",
    "\n",
    "# Enable GDAL/OGR exceptions\n",
    "gdal.UseExceptions()\n",
    "\n",
    "# If gdal is having trouble finding the *.csv files \n",
    "# that contain the Proj definitions, set the path explicity\n",
    "gdal.SetConfigOption('GDAL_DATA','/opt/conda/share/gdal')\n",
    "#print(gdal.GetConfigOption('GDAL_DATA'))\n",
    "\n",
    "# GDAL error handler function so we get more descriptive and helpful error messages\n",
    "# Source: The Python GDAL/OGR Cookbook\n",
    "def gdal_error_handler(err_class, err_num, err_msg):\n",
    "    errtype = {\n",
    "            gdal.CE_None:'None',\n",
    "            gdal.CE_Debug:'Debug',\n",
    "            gdal.CE_Warning:'Warning',\n",
    "            gdal.CE_Failure:'Failure',\n",
    "            gdal.CE_Fatal:'Fatal'\n",
    "    }\n",
    "    err_msg = err_msg.replace('\\n',' ')\n",
    "    err_class = errtype.get(err_class, 'None')\n",
    "    print('Error Number: %s' % (err_num))\n",
    "    print('Error Type: %s' % (err_class))\n",
    "    print('Error Message: %s' % (err_msg))\n",
    "\n",
    "gdal.PushErrorHandler(gdal_error_handler)"
   ]
  },
  {
   "cell_type": "markdown",
   "metadata": {},
   "source": [
    "## Homework Exerise 3: Exploring Coordinate Reference Systems and Distance, Area, and Direction Calculations\n",
    "*last updated 2/16/2016 by pattyf@berkeley.edu*\n"
   ]
  },
  {
   "cell_type": "markdown",
   "metadata": {},
   "source": [
    "## What to Submit\n",
    "\n",
    "- Do your work in this notebook. Add **Markdown or Code cells** if needed to input your work / responses to questions.\n",
    "\n",
    "- Save your work frequently as you go along.\n",
    "\n",
    "- When you are done download your work as a both an ipython notebook and as a PDF file. Zip the two together and give the file a name like **yourlastname_hw3.zip**\n",
    "\n",
    "- Upload your zip file on bCourses as your submission for this assignment.\n"
   ]
  },
  {
   "cell_type": "markdown",
   "metadata": {},
   "source": [
    "## Part 1. Distance Calculations \n",
    "\n",
    "\n",
    "### Introduction\n",
    "\n",
    "You may have learned in high school that you can use the Pythagorean Theorem to calculate the shortest, or straight-line distance, between two points in a plane. The term **plane** is used to describe two-dimensional space and is also called a **Cartesian coordinate system**, named after the French philosopher, mathematician and scientist Rene Descartes. In geospatial texts this is also called a **planar coordinate system**. The theorem can be written as an equation that relates the 3 sides of a right triangle:\n",
    "\n",
    "$$a^2 + b^2 = c^2$$\n",
    "\n",
    "\n",
    "\n",
    "Here, the distance between the two points,$(x_0,y_0)$ and $(x_1,y_1)$, is represented by line segment **C** and is equal to the square root of sum of differences between the two points.  This distance **D** is known as the **Euclidean distance** and is calcuted as follows:\n",
    "\n",
    "$$D = \\sqrt{(x_0-x_1)^2 + (y_0-y_1)^2}$$\n",
    "\n",
    "\n",
    "We can implement this formula in python using the function below."
   ]
  },
  {
   "cell_type": "code",
   "execution_count": 5,
   "metadata": {
    "collapsed": true
   },
   "outputs": [],
   "source": [
    "# a function to calculate distance using the pythagorean theorem\n",
    "def euclidean_dist ( x1,y1, x2, y2 ):\n",
    "    x_dist = x1 - x2  \n",
    "    y_dist = y1 - y2    \n",
    "    dist_sq = x_dist**2 + y_dist**2   \n",
    "\n",
    "    distance = round(math.sqrt(dist_sq), 4) \n",
    "\n",
    "    return distance"
   ]
  },
  {
   "cell_type": "markdown",
   "metadata": {},
   "source": [
    "Let's use this function to calculate the distance between two international airports, Seattle Tacoma International Airport (SEA) and Dallas / Fort Worth International Airport (DFW). We can get the geographic coordinates for these places via a search http://geonames.org. Geonames is a **gazetter**, an index or database that provides the geographic coordinates for place names as well as other information like place type. \n",
    "\n",
    "Using Geonames the following coordinates were retrieved:\n",
    "\n",
    "- **47.449, -122.309** # Seattle Tacoma International Airport (SEA)\n",
    "- **32.896, -97.037** # Dallas / Fort Worth International Airport (DFW)\n",
    "\n",
    "The distance between these two airports, according to the Great Circle Mapper (**GCM**) (http://www.gcmap.com/) is **1660** miles or **2671.5** kilometers (km). Let's figure out the best method to calculate an accurate distance between these locations and why.\n"
   ]
  },
  {
   "cell_type": "markdown",
   "metadata": {},
   "source": [
    "Below we create python tuples that contain coordinates for a set of airport locations using coordinates from geonames.org."
   ]
  },
  {
   "cell_type": "code",
   "execution_count": 6,
   "metadata": {
    "collapsed": true
   },
   "outputs": [],
   "source": [
    "SEA = (47.449, -122.309) # Seattle Tacoma International Airport (SEA)\n",
    "DFW = (32.896, -97.037)  # Dallas / Fort Worth International Airport (DFW)\n",
    "SFO = (37.619, -122.376)  # San Francisco International Airport\n",
    "LAX = (33.943, -118.409) # Los Angeles International Airport\n",
    "MNL = (14.505, 121.004)  # Ninoy Aquino International in Manilla, Phillipines\n",
    "\n",
    "# not used yet\n",
    "BLR = (13.201, 77.709)   # Kempegowda International Airport in Bengaluru India\n",
    "BKK = (13.692, 100.751)  # Suvarnabhumi Airport Bangkok Thailand\n",
    "ATL = (33.641, -84.423)  # Hatfield Atlanta International Airport"
   ]
  },
  {
   "cell_type": "markdown",
   "metadata": {},
   "source": [
    "We can then use the function to calculate the distance between DFW and SEA as follows:"
   ]
  },
  {
   "cell_type": "code",
   "execution_count": 7,
   "metadata": {
    "collapsed": false
   },
   "outputs": [
    {
     "data": {
      "text/plain": [
       "29.1627"
      ]
     },
     "execution_count": 7,
     "metadata": {},
     "output_type": "execute_result"
    }
   ],
   "source": [
    "euclidean_dist(SEA[1],SEA[0],DFW[1], DFW[0])"
   ]
  },
  {
   "cell_type": "markdown",
   "metadata": {},
   "source": [
    "### Question 1\n",
    "a) In the points for SEA and DFW, which index (0 or 1) represents the geographic east-west value, or longitude, and which the north-south value, or latitude? \n",
    "\n",
    "b) Does coordinate order (x,y vs y,x) matter when calculating Euclidean distance?\n",
    "\n",
    "c) In the cell below re-write the function above to take two points as arguments rather than the four x,y values."
   ]
  },
  {
   "cell_type": "code",
   "execution_count": 8,
   "metadata": {
    "collapsed": true
   },
   "outputs": [],
   "source": [
    "def euclidean_dist ( pt1, pt2 ):\n",
    "    # your code here\n",
    "    return distance"
   ]
  },
  {
   "cell_type": "markdown",
   "metadata": {},
   "source": [
    "### Interpreting the output\n",
    "\n",
    "What does that result mean (29.16..)? What are the units? Is that the correct distance?\n",
    "\n",
    "The value 29 is no where near the distance of 2671.5 km given by [Great Circle Mapper](http://www.gcmap.com/). The units are in decimal degrees which are angular units not linear. One might be tempted to convert decimal degrees to kilometers thinking they both measure distance on the surface of the Earth so there must be a conversion factor. Well, because the Earth is not flat it's complicated:\n",
    "\n",
    "- 1 degree of latitude on the earth measures about 111.2 km or 69 miles. It varies very slightly from 110.6 km at equator to 111.7 km at the poles.\n",
    "- 1 degree of longitude varies from 111.3 km  at the equator to 0 at the poles.\n"
   ]
  },
  {
   "cell_type": "markdown",
   "metadata": {},
   "source": [
    "### Question 2\n",
    "\n",
    "Given the above information, in the cell below write expressions to:\n",
    "\n",
    "a) Estimate the circumference of the earth in kilometers along the equator.\n",
    "\n",
    "b) Estimate the circumference along the poles given a flattening ration of 0.0033\n",
    "\n",
    "c) Do these values differ? Why? What is the relationship between these two values called?\n"
   ]
  },
  {
   "cell_type": "code",
   "execution_count": 9,
   "metadata": {
    "collapsed": false
   },
   "outputs": [
    {
     "name": "stdout",
     "output_type": "stream",
     "text": [
      "The circumference of the earth along the equator is approximately  1 km.\n",
      "and along the poles is approximately  1 km.\n",
      "These values are different because ...\n",
      "Based on these values the flattening ratio is   0.0033\n",
      "Earth Radius at equator:  1\n",
      "Earth Radius at poles:  1\n"
     ]
    }
   ],
   "source": [
    "# Replace the ones with your code\n",
    "earth_circumference_along_equator = 1 # replace with your formula\n",
    "flattening_ratio = 0.0033\n",
    "earth_circumference_along_poles = 1 # replace with your formula\n",
    "semi_major_axis = 1 # replace with formula\n",
    "semi_minor_axis = 1 # replace with formula\n",
    "\n",
    "print(\"The circumference of the earth along the equator is approximately \", earth_circumference_along_equator, \"km.\" )\n",
    "print(\"and along the poles is approximately \", earth_circumference_along_poles, \"km.\")\n",
    "print(\"These values are different because ...\")\n",
    "print('Based on these values the flattening ratio is  ', flattening_ratio)\n",
    "print('Earth Radius at equator: ', semi_major_axis)\n",
    "print('Earth Radius at poles: ', semi_minor_axis)"
   ]
  },
  {
   "cell_type": "markdown",
   "metadata": {},
   "source": [
    "### Converting Decimal Degrees to Kilometers\n",
    "Let's simplify and assume that one degree of latitude or longitude is about 111 KM and convert the distance between these two airports from degrees to kilometers."
   ]
  },
  {
   "cell_type": "code",
   "execution_count": 10,
   "metadata": {
    "collapsed": false
   },
   "outputs": [
    {
     "ename": "NameError",
     "evalue": "name 'distance' is not defined",
     "output_type": "error",
     "traceback": [
      "\u001b[0;31m---------------------------------------------------------------------------\u001b[0m",
      "\u001b[0;31mNameError\u001b[0m                                 Traceback (most recent call last)",
      "\u001b[0;32m<ipython-input-10-7cda1c6c513c>\u001b[0m in \u001b[0;36m<module>\u001b[0;34m()\u001b[0m\n\u001b[0;32m----> 1\u001b[0;31m \u001b[0meuclidean_dist\u001b[0m\u001b[0;34m(\u001b[0m\u001b[0mSEA\u001b[0m\u001b[0;34m,\u001b[0m\u001b[0mDFW\u001b[0m\u001b[0;34m)\u001b[0m \u001b[0;34m*\u001b[0m \u001b[0;36m111\u001b[0m\u001b[0;34m\u001b[0m\u001b[0m\n\u001b[0m",
      "\u001b[0;32m<ipython-input-8-61bb65e4a69d>\u001b[0m in \u001b[0;36meuclidean_dist\u001b[0;34m(pt1, pt2)\u001b[0m\n\u001b[1;32m      1\u001b[0m \u001b[0;32mdef\u001b[0m \u001b[0meuclidean_dist\u001b[0m \u001b[0;34m(\u001b[0m \u001b[0mpt1\u001b[0m\u001b[0;34m,\u001b[0m \u001b[0mpt2\u001b[0m \u001b[0;34m)\u001b[0m\u001b[0;34m:\u001b[0m\u001b[0;34m\u001b[0m\u001b[0m\n\u001b[1;32m      2\u001b[0m     \u001b[0;31m# your code here\u001b[0m\u001b[0;34m\u001b[0m\u001b[0;34m\u001b[0m\u001b[0m\n\u001b[0;32m----> 3\u001b[0;31m     \u001b[0;32mreturn\u001b[0m \u001b[0mdistance\u001b[0m\u001b[0;34m\u001b[0m\u001b[0m\n\u001b[0m",
      "\u001b[0;31mNameError\u001b[0m: name 'distance' is not defined"
     ]
    }
   ],
   "source": [
    "euclidean_dist(SEA,DFW) * 111"
   ]
  },
  {
   "cell_type": "markdown",
   "metadata": {},
   "source": [
    "Our distance calculation of 3237 km is now off by **565** km of the distance given by Great Circle Mapper - 2671.5 km. So, clearly we cannot assume a flat earth and use Euclidean geometry to calculate the distance between geographic coordinates. The results would range from inaccurate to nonsense.\n",
    "\n",
    "### Measuring Distance on the Spherical Earth\n",
    "\n",
    "The simplest model of the non-flat Earth is a sphere. The shortest path between two points on a sphere is along a circle formed when the sphere is sliced through those points and the center of the sphere. This is known as a **great circle arc**. We can calculate the length of the great circle arc, also called *great circle distance*, between two points $(Lon_0,Lat_0)$ and $(Lon_1,Lat_1)$ using the following formula (GISS, p. 89).\n",
    "\n",
    "$$D = R* cos^-1*[sin({Lat_0})sin({Lat_1}) + cos({Lat_0})cos({Lat_1})cos({(Lon_0-Lon_1)})]$$\n",
    "\n",
    "This is known as the [haversine formula](https://en.wikipedia.org/wiki/Haversine_formula) and it can be used to estimate the distance between two points on the earth if we know their latitude (**Lat**) and longitude (**Lon**) values and the radius (**R**) of the earth. The latitude and longitude values are first converted to radians (one radian is equal to 180/pi degrees). Note, **cos-1** is the inverse cosine, or math.acos in python.\n",
    "\n",
    "Below is a function to calculate the distance between two points specified by longitude and latitude using the haversine formula."
   ]
  },
  {
   "cell_type": "code",
   "execution_count": 11,
   "metadata": {
    "collapsed": true
   },
   "outputs": [],
   "source": [
    "# a function to calculate distance on a sphere using the haversine formula\n",
    "EARTH_RADIUS_KM = 6371  # Radius of Earth\n",
    "                        # If the radius is specified in kilometers, \n",
    "                        # the return value will also be in kilometers\n",
    "def haversine_dist(pt1,pt2,order=0):\n",
    "    lon0 = math.radians(pt1[0+order])\n",
    "    lon1 = math.radians(pt2[0+order])\n",
    "    lat0 = math.radians(pt1[1-order])\n",
    "    lat1 = math.radians(pt2[1-order])\n",
    "    \n",
    "    d = EARTH_RADIUS_KM * math.acos((math.sin(lat0)*math.sin(lat1)) + \n",
    "                        (math.cos(lat0)*math.cos(lat1)*math.cos(lon0-lon1))) \n",
    "    d = round(d,4)\n",
    "\n",
    "    return d\n"
   ]
  },
  {
   "cell_type": "markdown",
   "metadata": {},
   "source": [
    "### Question 3.\n",
    "a) Use the above function to compute the distance between SEA and DFW with the haversine Formula. Enter the code and a print statement below.\n",
    "\n",
    "b) In a comment in the cell below the describe **order** argument and show what it should be for this calculation."
   ]
  },
  {
   "cell_type": "code",
   "execution_count": 12,
   "metadata": {
    "collapsed": false
   },
   "outputs": [
    {
     "name": "stdout",
     "output_type": "stream",
     "text": [
      "your code and answer in here\n"
     ]
    }
   ],
   "source": [
    "# Haversine distance bewteen SEA and DFW\n",
    "print(\"your code and answer in here\" )"
   ]
  },
  {
   "cell_type": "markdown",
   "metadata": {},
   "source": [
    "Using the haversine formula, our distance calculation is now only about 3 km off of the Great Circle Mapper distance  (2671.226 - 2668.2822 km). That's pretty good. Why not just call it a day? There are two main reasons: 1) because some applications require a higher level of accuracy (e.g., a drone delivering a package to your doorstep) and  2) because the Earth, as much as we would like to to be, is not a sphere.  Its shape is an **ellipsoid** (which is sometimes refered to as a spheriod). We have only calculated the distance between two points on the earth. Distance calculations based on a spherical earth model may be much more accurate for other locations.\n",
    "\n",
    "### Measuring Distance on the Ellipsoidal Earth\n",
    "\n",
    "A ellipsoidal model of the Earth is specified by the radius of the major and minor axes or by the radius of the major axis and the polar flattening ratio. The main reference ellipsoids in use in North America are:\n",
    "\n",
    "- World Geodetic System of 1984, or **WGS-84** (6378.137,    6356.7523142)\n",
    "- The Geodetic Reference system of 1980, or **GRS-80** (6378.137,    6356.7523141)\n",
    "- **Clarke (1866)** (6,378.206 m,\t6,356.5838 m, 294.978698214) \n",
    "\n",
    "WGS84 is the default ellipsoidal model and is implemented by the WGS84 Geographic Coordinate Reference System (CRS). GRS-80 is the ellipsoidal model used by the North American Datum of 1983 (NAD83) and the NAD83 CRS. The Clark 1866 ellipsoid is used by the North American Datum of 1927, or NAD27 CRS. NAD27 is obsolete but there are data still in use that use it. NAD27 locations can differ from NAD83 or WGS84 locations by up to 100 meters. See https://en.wikipedia.org/wiki/North_American_Datum for a discussion and details.\n",
    "\n",
    "The NAD83 and WGS84 CRSs are almost identical. However, when performing geoprocessing operations in software *almost* isn't good enough - you may get errors if you do not transform values to the same CRS.\n",
    "\n",
    "Distance calculataions based on the ellipsoidal model of the earth employ **Vincenty's formula**. This is much more complicated math so we will use it's implementation in the python **geopy** module. You can read about it here:\n",
    "https://github.com/geopy/geopy/blob/master/geopy/distance.py"
   ]
  },
  {
   "cell_type": "code",
   "execution_count": 13,
   "metadata": {
    "collapsed": false
   },
   "outputs": [
    {
     "name": "stdout",
     "output_type": "stream",
     "text": [
      "2671.1369110333435\n"
     ]
    }
   ],
   "source": [
    "# try vincenty - default ellipsoid is WGS84. Other ellipsoids are listed at: \n",
    "# https://github.com/geopy/geopy/blob/master/geopy/distance.py\n",
    "print(vincenty(SEA, DFW).km)\n"
   ]
  },
  {
   "cell_type": "markdown",
   "metadata": {},
   "source": [
    "We now have approximately the same distance using the vincenty formula as we got from Great Circle Mapper! \n",
    "That is because GCM uses this formula (see: http://www.gcmap.com/faq/gccalc#gchow0). \n",
    "                                                                                                                "
   ]
  },
  {
   "cell_type": "markdown",
   "metadata": {},
   "source": [
    "### Question 4.\n",
    "By how many **meters** does the Vicenty function differ from the Haversine function for the distance between SEA and DFW? Show you work in the code block below."
   ]
  },
  {
   "cell_type": "code",
   "execution_count": 14,
   "metadata": {
    "collapsed": true
   },
   "outputs": [],
   "source": [
    "# Calculate difference between Vincenty and Haversine Distances"
   ]
  },
  {
   "cell_type": "markdown",
   "metadata": {},
   "source": [
    "### Question 5.\n",
    "Complete the code block below to compute the Vincenty distance between these two airports using all three ellipsoids mentioned above. See the geopy url above for the function arguments. TIP: you may need to define a custom ellipsoid. The geopy documentation shows you how to do this. Discuss any differences in the results. In what order does the vincenty() function require the coordinates?"
   ]
  },
  {
   "cell_type": "code",
   "execution_count": 15,
   "metadata": {
    "collapsed": false
   },
   "outputs": [
    {
     "ename": "NameError",
     "evalue": "name 'wgs84_dist' is not defined",
     "output_type": "error",
     "traceback": [
      "\u001b[0;31m---------------------------------------------------------------------------\u001b[0m",
      "\u001b[0;31mNameError\u001b[0m                                 Traceback (most recent call last)",
      "\u001b[0;32m<ipython-input-15-12e8067bd5ce>\u001b[0m in \u001b[0;36m<module>\u001b[0;34m()\u001b[0m\n\u001b[1;32m      3\u001b[0m \u001b[0;31m#grs80_dist = ..\u001b[0m\u001b[0;34m\u001b[0m\u001b[0;34m\u001b[0m\u001b[0m\n\u001b[1;32m      4\u001b[0m \u001b[0;31m#clark1866_dist = ..\u001b[0m\u001b[0;34m\u001b[0m\u001b[0;34m\u001b[0m\u001b[0m\n\u001b[0;32m----> 5\u001b[0;31m \u001b[0mprint\u001b[0m\u001b[0;34m(\u001b[0m\u001b[0;34m'WGS84 distance between SEA and DFW is %.2f km'\u001b[0m \u001b[0;34m%\u001b[0m \u001b[0mwgs84_dist\u001b[0m\u001b[0;34m)\u001b[0m\u001b[0;34m\u001b[0m\u001b[0m\n\u001b[0m\u001b[1;32m      6\u001b[0m \u001b[0;31m#...add your print code\u001b[0m\u001b[0;34m\u001b[0m\u001b[0;34m\u001b[0m\u001b[0m\n\u001b[1;32m      7\u001b[0m \u001b[0mprint\u001b[0m\u001b[0;34m(\u001b[0m\u001b[0;34m'The difference between WGS84 and GRS80 distance calculations is ...'\u001b[0m\u001b[0;34m)\u001b[0m\u001b[0;34m\u001b[0m\u001b[0m\n",
      "\u001b[0;31mNameError\u001b[0m: name 'wgs84_dist' is not defined"
     ]
    }
   ],
   "source": [
    "### Insert your code:\n",
    "#wgs84_dist = vincenty(..).km\n",
    "#grs80_dist = ..\n",
    "#clark1866_dist = ..\n",
    "print('WGS84 distance between SEA and DFW is %.2f km' % wgs84_dist)\n",
    "#...add your print code\n",
    "print('The difference between WGS84 and GRS80 distance calculations is ...')\n",
    "print('The difference between GRS80 and Clark1866 distance calculations is ...')"
   ]
  },
  {
   "cell_type": "markdown",
   "metadata": {},
   "source": [
    "### Question 6.\n",
    "\n",
    "a) Calculate the Haversine and Vincenty distances for SEA and MNL. \n",
    "\n",
    "b) Is the difference between these values similar as they were between SEA and DFW? If not why not?"
   ]
  },
  {
   "cell_type": "markdown",
   "metadata": {},
   "source": [
    "## Map Projections\n",
    "\n",
    "If we can accurately calculate distances using the ellipsoidal earth model why do we need map projections? Map projections are used to transform 3D geographic coordinates to a 2D planar surface. We do this so we can produce 2D visualizations of geographic locations, e.g., on printed maps and computer screens. We also need map projections because ellipsoidal calculations more complex than point distances are too computationally intensive and are not widely implemented.  Map projections are designed to minimize distortion in area, shape, distance and/or direction for specific regions on the earth. No map projection can eliminate all forms of distortion for all regions. The selection of the appropriate map projection is extremely important and must be made with respect to the needs of the application at hand."
   ]
  },
  {
   "cell_type": "markdown",
   "metadata": {},
   "source": [
    "### We can use the GDAL & OGR libraries to transform geographic coordinates to projected coordinates.\n",
    "\n",
    "In order to transform geographic coordinates to projected coordinates we need to import some python modules to help with the calculations. The osgeo gdal, ogr and osr libraries are python ports of the powerful and widely used GDAL/OGR libraries for importing, manipulating and transforming geospatial data. See http://gdal.org for details on its functionality. The Python GDAL/OGR Cookbook (http://pcjericks.github.io/py-gdalogr-cookbook) provides lots of examples for implementing this functionality. GDAL/OGR use the [proj4](https://trac.osgeo.org/proj/) library for coordinate reference system definitions and transformations."
   ]
  },
  {
   "cell_type": "markdown",
   "metadata": {},
   "source": [
    "### Coordinate Reference System (CRS) / Spatial Reference System (SRS) \n",
    "\n",
    "The terms coordinate reference system (CRS) and spatial reference system (SRS) are used interchangeably to refer to the definition of the space that gives geographic meaning to locations expressed as coordinates. There are thousands of CRSs in current use but only a handful are widely used.  You can use http://spatialreference.org to find the parameters for most CRSs. The easiest way to look up a CRS on spatialreference.org is by using the EPSG (European Petroleum Standards Group) code.\n",
    "\n",
    "- **Geographic Coordinate Reference Systems** (aka unprojected CRS)\n",
    "    - 4326 - WGS 84  # used by GPS and international mapping efforts\n",
    "    - 4269 - NAD 83  # used by datasets produced by U.S. agencies like the Census\n",
    "    \n",
    "    \n",
    "- **Projected Coordinate Reference Systems** (aka map projections)\n",
    "    - 3310 - California Albers Equal Area # for CA-wide or large area data\n",
    "    - 5070 - Conus (continental US) NAD83 # for US-wide data\n",
    "    - 26910 - UTM Zone 10N, NAD 83 # for Northern CA data\n",
    "    - 26911 - UTM Zone 11N, NAD 83 # for Southern CA data\n",
    "    - 3857 - Web Mercator (aka Google Mercator, Spherical Mercator, Psuedo Mercator) # for web mapping\n",
    "\n",
    "We can use the EPSG codes to create a spatial reference object and use it to transform coordinates from one CRS to another. When EPSG codes are not available, you can use the **proj4** string from spatialreference.org to define the CRS."
   ]
  },
  {
   "cell_type": "code",
   "execution_count": 16,
   "metadata": {
    "collapsed": false
   },
   "outputs": [
    {
     "name": "stdout",
     "output_type": "stream",
     "text": [
      "Error Number: 4\n",
      "Error Type: Failure\n",
      "Error Message: Unable to open EPSG support file gcs.csv. Try setting the GDAL_DATA environment variable to point to the directory containing EPSG csv files.\n",
      "\n",
      "GEOGCS[\"WGS 84\",DATUM[\"WGS_1984\",SPHEROID[\"WGS 84\",6378137,298.257223563,AUTHORITY[\"EPSG\",\"7030\"]],TOWGS84[0,0,0,0,0,0,0],AUTHORITY[\"EPSG\",\"6326\"]],PRIMEM[\"Greenwich\",0,AUTHORITY[\"EPSG\",\"8901\"]],UNIT[\"degree\",0.0174532925199433,AUTHORITY[\"EPSG\",\"9108\"]],AUTHORITY[\"EPSG\",\"4326\"]]\n"
     ]
    }
   ],
   "source": [
    "# Create and define a CRS using an EPSG code\n",
    "WGS84_CRS = osr.SpatialReference()\n",
    "WGS84_CRS.ImportFromEPSG(4326)\n",
    "print(WGS84_CRS.ExportToWkt())\n",
    "\n",
    "# Create and define the same CRS using the proj4 string rather than the EPSG code\n",
    "WGS84_CRS2 = osr.SpatialReference()\n",
    "WGS84_CRS2.ImportFromProj4('+proj=longlat +ellps=WGS84 +datum=WGS84 +no_defs')\n",
    "print(WGS84_CRS2.ExportToWkt())\n",
    "\n",
    "#Are the strings identical? No, slight differences"
   ]
  },
  {
   "cell_type": "markdown",
   "metadata": {},
   "source": [
    "In the next code block we create SpatialReference objects for each of the CRSs we listed above. We can then use those to transform our coordinates from one CRS to another."
   ]
  },
  {
   "cell_type": "code",
   "execution_count": 17,
   "metadata": {
    "collapsed": false
   },
   "outputs": [
    {
     "name": "stdout",
     "output_type": "stream",
     "text": [
      "Error Number: 4\n",
      "Error Type: Failure\n",
      "Error Message: Unable to open EPSG support file gcs.csv. Try setting the GDAL_DATA environment variable to point to the directory containing EPSG csv files.\n",
      "Error Number: 4\n",
      "Error Type: Failure\n",
      "Error Message: Unable to open EPSG support file gcs.csv. Try setting the GDAL_DATA environment variable to point to the directory containing EPSG csv files.\n",
      "Error Number: 4\n",
      "Error Type: Failure\n",
      "Error Message: Unable to open EPSG support file gcs.csv. Try setting the GDAL_DATA environment variable to point to the directory containing EPSG csv files.\n",
      "Error Number: 4\n",
      "Error Type: Failure\n",
      "Error Message: Unable to open EPSG support file gcs.csv. Try setting the GDAL_DATA environment variable to point to the directory containing EPSG csv files.\n",
      "Error Number: 4\n",
      "Error Type: Failure\n",
      "Error Message: Unable to open EPSG support file gcs.csv. Try setting the GDAL_DATA environment variable to point to the directory containing EPSG csv files.\n",
      "Error Number: 4\n",
      "Error Type: Failure\n",
      "Error Message: Unable to open EPSG support file gcs.csv. Try setting the GDAL_DATA environment variable to point to the directory containing EPSG csv files.\n"
     ]
    },
    {
     "data": {
      "text/plain": [
       "6"
      ]
     },
     "execution_count": 17,
     "metadata": {},
     "output_type": "execute_result"
    }
   ],
   "source": [
    "# Define the CRSs that we will use\n",
    "\n",
    "CalAlbers_CRS= osr.SpatialReference()\n",
    "CalAlbers_CRS.ImportFromEPSG(3310)\n",
    "\n",
    "NAD83_CRS = osr.SpatialReference()\n",
    "NAD83_CRS.ImportFromEPSG(4326)\n",
    "\n",
    "ConUS_CRS= osr.SpatialReference()\n",
    "ConUS_CRS.ImportFromEPSG(5070)\n",
    " \n",
    "UTM10_CRS= osr.SpatialReference()\n",
    "UTM10_CRS.ImportFromEPSG(26910)\n",
    "\n",
    "UTM11_CRS= osr.SpatialReference()\n",
    "UTM11_CRS.ImportFromEPSG(26911)\n",
    "\n",
    "Web_CRS= osr.SpatialReference()\n",
    "Web_CRS.ImportFromEPSG(3857)"
   ]
  },
  {
   "cell_type": "markdown",
   "metadata": {},
   "source": [
    "### Well-Known Text (WKT) Format \n",
    "In order to leverage the power of the GDAL/OGR libraries we must put our coordinates in a format that those libraries can work with. One format that works is WKT.  In the next section we will convert our points for SFO and LAX to WKT and then compute the straight line, or as the crow flies, distance between these two airports.\n",
    "\n",
    "First, create WKT points for these two locations."
   ]
  },
  {
   "cell_type": "code",
   "execution_count": 18,
   "metadata": {
    "collapsed": false
   },
   "outputs": [
    {
     "name": "stdout",
     "output_type": "stream",
     "text": [
      "LAX:  POINT (-118.409 33.943)\n",
      "SFO:  POINT (-122.376 37.619)\n"
     ]
    }
   ],
   "source": [
    "# Create points in well-known text format (WKT)\n",
    "LAX_wkt = \"POINT (\"+ str(LAX[1]) + \" \" + str(LAX[0]) + \")\" \n",
    "SFO_wkt = \"POINT (\"+ str(SFO[1]) + \" \" + str(SFO[0]) + \")\"\n",
    "\n",
    "print(\"LAX: \", LAX_wkt) # Note: there are no comma between the coords in WKT format\n",
    "print(\"SFO: \", SFO_wkt)"
   ]
  },
  {
   "cell_type": "markdown",
   "metadata": {},
   "source": [
    "### Transforming Coordinates\n",
    "\n",
    "Now that we have defined our CRSs and have our WKT, let's create a function to transform geographic to projected coordinates.\n"
   ]
  },
  {
   "cell_type": "code",
   "execution_count": 20,
   "metadata": {
    "collapsed": true
   },
   "outputs": [],
   "source": [
    "# Define a function to tranform geometry in WKT format between two CRSs\n",
    "def wktTransformCRS(wkt_feature, sourceCRS,targetCRS):\n",
    "    transform = osr.CoordinateTransformation(sourceCRS, targetCRS)\n",
    "    feature_geom = ogr.CreateGeometryFromWkt(wkt_feature) # ogr polygon\n",
    "    coordTransform = osr.CoordinateTransformation(sourceCRS,targetCRS)\n",
    "    feature_geom.Transform(coordTransform)\n",
    "    \n",
    "    return feature_geom.ExportToJson() # We use json here bc it is easies to convert the coordinates \n",
    "                                       # from JSON to a simple list format\n"
   ]
  },
  {
   "cell_type": "markdown",
   "metadata": {},
   "source": [
    "Test the function with the SFO and LAX coordinates and view the output."
   ]
  },
  {
   "cell_type": "code",
   "execution_count": 21,
   "metadata": {
    "collapsed": false
   },
   "outputs": [
    {
     "name": "stdout",
     "output_type": "stream",
     "text": [
      "JSON Feature:  { \"type\": \"Point\", \"coordinates\": [ -209409.964107661653543, -41549.634357079397887 ] }\n",
      "Projected Coordinates:  147083.38813425685 -451255.20336084766\n"
     ]
    }
   ],
   "source": [
    "# Transform the ouput from a JSON string to a list\n",
    "\n",
    "LAX_json = wktTransformCRS(LAX_wkt, WGS84_CRS, CalAlbers_CRS)\n",
    "SFO_json = wktTransformCRS(SFO_wkt, WGS84_CRS, CalAlbers_CRS)\n",
    "print(\"JSON Feature: \", SFO_json)\n",
    "LAX_xy = json.loads(LAX_json)['coordinates']\n",
    "SFO_xy = json.loads(SFO_json)['coordinates']\n",
    "print(\"Projected Coordinates: \", LAX_xy[0], LAX_xy[1])"
   ]
  },
  {
   "cell_type": "markdown",
   "metadata": {},
   "source": [
    "### Question 7.\n",
    "Compute the Vincenty distance using geographic coordinates and Euclidean distances using projected coordinates between SFO and LAX. Then print the difference between these values."
   ]
  },
  {
   "cell_type": "code",
   "execution_count": 22,
   "metadata": {
    "collapsed": false
   },
   "outputs": [
    {
     "name": "stdout",
     "output_type": "stream",
     "text": [
      "Projected distance in 0.00 km\n",
      "Vincenty distance in 0.00 km\n",
      "Difference between Haversine Distance and Projected distance is 0.00 km\n"
     ]
    }
   ],
   "source": [
    "# get distance between to projected coordinates in kilometers\n",
    "projected_dist_km = 0 #update\n",
    "vincenty_dist = 0 # update code\n",
    "\n",
    "print('Projected distance in %.2f km' % projected_dist_km)\n",
    "print('Vincenty distance in %.2f km' % vincenty_dist)\n",
    "\n",
    "the_diff =  vincenty_dist - projected_dist_km\n",
    "print(\"Difference between Haversine Distance and Projected distance is %.2f km\" % the_diff)"
   ]
  },
  {
   "cell_type": "markdown",
   "metadata": {},
   "source": [
    "### Summary\n",
    "Using projected coordinates and simple Euclidean geometry we can get very accurate distance measurements without the computational overhead of using ellipsoidal calculations. However, for larger distances, eg greater than the length of a country, use ellipsoidal calculations when high accuracy is required."
   ]
  },
  {
   "cell_type": "markdown",
   "metadata": {},
   "source": [
    "### Question 8.\n",
    "\n",
    "Elephant seals migrate to Ano Nuevo State Park (37.1436, -122.3472) to mate between the months of Dec and March (http://www.parks.ca.gov/?page_id=1115).\n",
    "When they depart, males and females go their separate ways. The males travel approximately as far as (56.9643, -153.2407) while the can travel as far as (19.2469, -155.1130). (http://www.esajournals.org/doi/abs/10.1890/0012-9615%282000%29070%5B0353%3AFEONES%5D2.0.CO%3B2)\n",
    "\n",
    "a) Do the males or females travel farther? *Show your work - indicating how far males and females travel and how you determined those values.*\n",
    "\n",
    "b) Are the coordinates above listed as (lat, lon) or (lon,lat)? How can you tell?\n",
    "\n",
    "c) Where do the males & females go respectively? For each group name the closest land mass. Tip, enter the coordinates in lat,lon order in the google maps search bar"
   ]
  },
  {
   "cell_type": "code",
   "execution_count": 1,
   "metadata": {
    "collapsed": true
   },
   "outputs": [],
   "source": [
    "#Put any code and text (as comments) for Question 8 in this cell."
   ]
  },
  {
   "cell_type": "markdown",
   "metadata": {},
   "source": [
    "\n",
    "\n",
    "\n",
    "\n",
    "## Part 2. Map Projections and Area Measurments\n",
    "\n",
    "Calculating the distance between two points is the same as calculating the length of a line defined by two points. For a line with more than two points you would sum the length of each line segment. Let's now consider polygons, or vector delineations of areas, to see how area measurements are impacted by different map projections. First, import a table that contains the WKT definitions for polygons. "
   ]
  },
  {
   "cell_type": "code",
   "execution_count": 23,
   "metadata": {
    "collapsed": false
   },
   "outputs": [
    {
     "data": {
      "text/html": [
       "<table border=\"1\" class=\"dataframe\">\n",
       "    <thead>\n",
       "        <tr>\n",
       "            <th>WKT</th> <th>STATEFP</th> <th>COUNTYFP</th> <th>NAMELSAD</th> <th>ALAND</th> <th>AWATER</th>\n",
       "        </tr>\n",
       "    </thead>\n",
       "    <tbody>\n",
       "        <tr>\n",
       "            <td>MULTIPOLYGON (((-120.655585 39.69356,-120.654227 39.7066 ...</td> <td>6      </td> <td>91      </td> <td>Sierra County       </td> <td>2468686345 </td> <td>23299112  </td>\n",
       "        </tr>\n",
       "    </tbody>\n",
       "        <tr>\n",
       "            <td>MULTIPOLYGON (((-121.188571 38.714308,-121.151857 38.711 ...</td> <td>6      </td> <td>67      </td> <td>Sacramento County   </td> <td>2499176690 </td> <td>76080730  </td>\n",
       "        </tr>\n",
       "    </tbody>\n",
       "        <tr>\n",
       "            <td>MULTIPOLYGON (((-120.581897 34.098557,-120.582264 34.107 ...</td> <td>6      </td> <td>83      </td> <td>Santa Barbara County</td> <td>7083926262 </td> <td>2729818040</td>\n",
       "        </tr>\n",
       "    </tbody>\n",
       "        <tr>\n",
       "            <td>MULTIPOLYGON (((-120.630933 38.3411,-120.631795 38.34602 ...</td> <td>6      </td> <td>9       </td> <td>Calaveras County    </td> <td>2641819811 </td> <td>43808748  </td>\n",
       "        </tr>\n",
       "    </tbody>\n",
       "        <tr>\n",
       "            <td>MULTIPOLYGON (((-119.636302 33.27304,-119.63382 33.28932 ...</td> <td>6      </td> <td>111     </td> <td>Ventura County      </td> <td>4773381212 </td> <td>945947858 </td>\n",
       "        </tr>\n",
       "    </tbody>\n",
       "        <tr>\n",
       "            <td>MULTIPOLYGON (((-118.667602 33.477489,-118.666719 33.493 ...</td> <td>6      </td> <td>37      </td> <td>Los Angeles County  </td> <td>10510365728</td> <td>1794809423</td>\n",
       "        </tr>\n",
       "    </tbody>\n",
       "        <tr>\n",
       "            <td>MULTIPOLYGON (((-122.93506 38.313952,-122.939709 38.3108 ...</td> <td>6      </td> <td>97      </td> <td>Sonoma County       </td> <td>4081401375 </td> <td>497545782 </td>\n",
       "        </tr>\n",
       "    </tbody>\n",
       "        <tr>\n",
       "            <td>MULTIPOLYGON (((-119.958925 36.255468,-119.959227 36.400 ...</td> <td>6      </td> <td>31      </td> <td>Kings County        </td> <td>3598582246 </td> <td>5468555   </td>\n",
       "        </tr>\n",
       "    </tbody>\n",
       "        <tr>\n",
       "            <td>MULTIPOLYGON (((-117.437426 33.17953,-117.467871 33.2124 ...</td> <td>6      </td> <td>73      </td> <td>San Diego County    </td> <td>10895213672</td> <td>826296339 </td>\n",
       "        </tr>\n",
       "    </tbody>\n",
       "        <tr>\n",
       "            <td>MULTIPOLYGON (((-121.065436 39.006533,-121.061653 39.010 ...</td> <td>6      </td> <td>61      </td> <td>Placer County       </td> <td>3644346108 </td> <td>246376805 </td>\n",
       "        </tr>\n",
       "    </tbody>\n",
       "</table>\n",
       "<p>... (48 rows omitted)</p"
      ],
      "text/plain": [
       "WKT                                                          | STATEFP | COUNTYFP | NAMELSAD             | ALAND       | AWATER\n",
       "MULTIPOLYGON (((-120.655585 39.69356,-120.654227 39.7066 ... | 6       | 91       | Sierra County        | 2468686345  | 23299112\n",
       "MULTIPOLYGON (((-121.188571 38.714308,-121.151857 38.711 ... | 6       | 67       | Sacramento County    | 2499176690  | 76080730\n",
       "MULTIPOLYGON (((-120.581897 34.098557,-120.582264 34.107 ... | 6       | 83       | Santa Barbara County | 7083926262  | 2729818040\n",
       "MULTIPOLYGON (((-120.630933 38.3411,-120.631795 38.34602 ... | 6       | 9        | Calaveras County     | 2641819811  | 43808748\n",
       "MULTIPOLYGON (((-119.636302 33.27304,-119.63382 33.28932 ... | 6       | 111      | Ventura County       | 4773381212  | 945947858\n",
       "MULTIPOLYGON (((-118.667602 33.477489,-118.666719 33.493 ... | 6       | 37       | Los Angeles County   | 10510365728 | 1794809423\n",
       "MULTIPOLYGON (((-122.93506 38.313952,-122.939709 38.3108 ... | 6       | 97       | Sonoma County        | 4081401375  | 497545782\n",
       "MULTIPOLYGON (((-119.958925 36.255468,-119.959227 36.400 ... | 6       | 31       | Kings County         | 3598582246  | 5468555\n",
       "MULTIPOLYGON (((-117.437426 33.17953,-117.467871 33.2124 ... | 6       | 73       | San Diego County     | 10895213672 | 826296339\n",
       "MULTIPOLYGON (((-121.065436 39.006533,-121.061653 39.010 ... | 6       | 61       | Placer County        | 3644346108  | 246376805\n",
       "... (48 rows omitted)"
      ]
     },
     "execution_count": 23,
     "metadata": {},
     "output_type": "execute_result"
    }
   ],
   "source": [
    "wkt_file = \"./ca_counties_wkt.csv\"\n",
    "myco = Table.read_table(wkt_file)\n",
    "myco"
   ]
  },
  {
   "cell_type": "markdown",
   "metadata": {},
   "source": [
    "### About the data\n",
    "The original source of these data was the US Census TIGER/Line California County data. These data include two columns, **ALAND** and **AWATER** that contain the area in meters for the land and water portions of the county respectively. In this next section we will calculate the area for each county using the WKT and compare it to the values reported by the Census. In order to compute the area we must first transform the coordinate data from unprojected geographic coordinates (latitude and longitude values) to projected coordinates. In order to transform the CRS you need to know that the source CRS for this and all Census geographic data (when obtained from the Census) is NAD83. We can then use the [GDAL/OGR GetArea() function](https://pcjericks.github.io/py-gdalogr-cookbook/geometry.html#calculate-the-area-of-a-geometry) to compute the area of the feature.\n",
    "\n",
    "In the code block below we define a simple function to transform area data in WKT format from one CRS to another and return the area."
   ]
  },
  {
   "cell_type": "code",
   "execution_count": 24,
   "metadata": {
    "collapsed": true
   },
   "outputs": [],
   "source": [
    "# A function to transform the data in WKT format\n",
    "# from one CRS to another\n",
    "# and then compute area\n",
    "# assumes polygon data!\n",
    "def getProjectedArea(wkt_feature, sourceCRS,targetCRS):\n",
    "    feature_geom = ogr.CreateGeometryFromWkt(wkt_feature) # ogr polygon\n",
    "    coordTransform = osr.CoordinateTransformation(sourceCRS,targetCRS)\n",
    "    feature_geom.Transform(coordTransform)\n",
    "    return feature_geom.GetArea()"
   ]
  },
  {
   "cell_type": "markdown",
   "metadata": {},
   "source": [
    "We can now compute the area of one polygon in the data table and compare it to the sum of the Census values."
   ]
  },
  {
   "cell_type": "code",
   "execution_count": 25,
   "metadata": {
    "collapsed": false
   },
   "outputs": [
    {
     "name": "stdout",
     "output_type": "stream",
     "text": [
      "Census area in sq km:  2491.985457\n",
      "Projected area in sq km:  2492.0388487105547\n",
      "Difference in sq km: 5.33917105545e-08\n"
     ]
    }
   ],
   "source": [
    "# Compare the area reported by the census with our calculation\n",
    "census_area = (myco['ALAND'][0] + myco['AWATER'][0]) / (1000 * 1000)\n",
    "calc_area = getProjectedArea(myco['WKT'][0],NAD83_CRS,CalAlbers_CRS) / (1000 * 1000)\n",
    "area_diff = census_area - calc_area\n",
    "print('Census area in sq km: ', census_area)\n",
    "print('Projected area in sq km: ', calc_area)\n",
    "print('Difference in sq km:', abs(area_diff) / (1000 * 1000))"
   ]
  },
  {
   "cell_type": "markdown",
   "metadata": {},
   "source": [
    "We can see that the difference for this county is less than one sq km, which is quite small given the total size of the county. We can use the same approach to compute the area from the WKT geometry for each county."
   ]
  },
  {
   "cell_type": "code",
   "execution_count": 26,
   "metadata": {
    "collapsed": false
   },
   "outputs": [
    {
     "data": {
      "text/html": [
       "<table border=\"1\" class=\"dataframe\">\n",
       "    <thead>\n",
       "        <tr>\n",
       "            <th>WKT</th> <th>STATEFP</th> <th>COUNTYFP</th> <th>NAMELSAD</th> <th>ALAND</th> <th>AWATER</th> <th>area_albers</th>\n",
       "        </tr>\n",
       "    </thead>\n",
       "    <tbody>\n",
       "        <tr>\n",
       "            <td>MULTIPOLYGON (((-120.655585 39.69356,-120.654227 39.7066 ...</td> <td>6      </td> <td>91      </td> <td>Sierra County       </td> <td>2468686345 </td> <td>23299112  </td> <td>2.49204e+09</td>\n",
       "        </tr>\n",
       "    </tbody>\n",
       "        <tr>\n",
       "            <td>MULTIPOLYGON (((-121.188571 38.714308,-121.151857 38.711 ...</td> <td>6      </td> <td>67      </td> <td>Sacramento County   </td> <td>2499176690 </td> <td>76080730  </td> <td>2.57538e+09</td>\n",
       "        </tr>\n",
       "    </tbody>\n",
       "        <tr>\n",
       "            <td>MULTIPOLYGON (((-120.581897 34.098557,-120.582264 34.107 ...</td> <td>6      </td> <td>83      </td> <td>Santa Barbara County</td> <td>7083926262 </td> <td>2729818040</td> <td>9.80665e+09</td>\n",
       "        </tr>\n",
       "    </tbody>\n",
       "        <tr>\n",
       "            <td>MULTIPOLYGON (((-120.630933 38.3411,-120.631795 38.34602 ...</td> <td>6      </td> <td>9       </td> <td>Calaveras County    </td> <td>2641819811 </td> <td>43808748  </td> <td>2.68548e+09</td>\n",
       "        </tr>\n",
       "    </tbody>\n",
       "        <tr>\n",
       "            <td>MULTIPOLYGON (((-119.636302 33.27304,-119.63382 33.28932 ...</td> <td>6      </td> <td>111     </td> <td>Ventura County      </td> <td>4773381212 </td> <td>945947858 </td> <td>5.71783e+09</td>\n",
       "        </tr>\n",
       "    </tbody>\n",
       "        <tr>\n",
       "            <td>MULTIPOLYGON (((-118.667602 33.477489,-118.666719 33.493 ...</td> <td>6      </td> <td>37      </td> <td>Los Angeles County  </td> <td>10510365728</td> <td>1794809423</td> <td>1.23014e+10</td>\n",
       "        </tr>\n",
       "    </tbody>\n",
       "        <tr>\n",
       "            <td>MULTIPOLYGON (((-122.93506 38.313952,-122.939709 38.3108 ...</td> <td>6      </td> <td>97      </td> <td>Sonoma County       </td> <td>4081401375 </td> <td>497545782 </td> <td>4.57712e+09</td>\n",
       "        </tr>\n",
       "    </tbody>\n",
       "        <tr>\n",
       "            <td>MULTIPOLYGON (((-119.958925 36.255468,-119.959227 36.400 ...</td> <td>6      </td> <td>31      </td> <td>Kings County        </td> <td>3598582246 </td> <td>5468555   </td> <td>3.6034e+09 </td>\n",
       "        </tr>\n",
       "    </tbody>\n",
       "        <tr>\n",
       "            <td>MULTIPOLYGON (((-117.437426 33.17953,-117.467871 33.2124 ...</td> <td>6      </td> <td>73      </td> <td>San Diego County    </td> <td>10895213672</td> <td>826296339 </td> <td>1.17213e+10</td>\n",
       "        </tr>\n",
       "    </tbody>\n",
       "        <tr>\n",
       "            <td>MULTIPOLYGON (((-121.065436 39.006533,-121.061653 39.010 ...</td> <td>6      </td> <td>61      </td> <td>Placer County       </td> <td>3644346108 </td> <td>246376805 </td> <td>3.89231e+09</td>\n",
       "        </tr>\n",
       "    </tbody>\n",
       "</table>\n",
       "<p>... (48 rows omitted)</p"
      ],
      "text/plain": [
       "WKT                                                          | STATEFP | COUNTYFP | NAMELSAD             | ALAND       | AWATER     | area_albers\n",
       "MULTIPOLYGON (((-120.655585 39.69356,-120.654227 39.7066 ... | 6       | 91       | Sierra County        | 2468686345  | 23299112   | 2.49204e+09\n",
       "MULTIPOLYGON (((-121.188571 38.714308,-121.151857 38.711 ... | 6       | 67       | Sacramento County    | 2499176690  | 76080730   | 2.57538e+09\n",
       "MULTIPOLYGON (((-120.581897 34.098557,-120.582264 34.107 ... | 6       | 83       | Santa Barbara County | 7083926262  | 2729818040 | 9.80665e+09\n",
       "MULTIPOLYGON (((-120.630933 38.3411,-120.631795 38.34602 ... | 6       | 9        | Calaveras County     | 2641819811  | 43808748   | 2.68548e+09\n",
       "MULTIPOLYGON (((-119.636302 33.27304,-119.63382 33.28932 ... | 6       | 111      | Ventura County       | 4773381212  | 945947858  | 5.71783e+09\n",
       "MULTIPOLYGON (((-118.667602 33.477489,-118.666719 33.493 ... | 6       | 37       | Los Angeles County   | 10510365728 | 1794809423 | 1.23014e+10\n",
       "MULTIPOLYGON (((-122.93506 38.313952,-122.939709 38.3108 ... | 6       | 97       | Sonoma County        | 4081401375  | 497545782  | 4.57712e+09\n",
       "MULTIPOLYGON (((-119.958925 36.255468,-119.959227 36.400 ... | 6       | 31       | Kings County         | 3598582246  | 5468555    | 3.6034e+09\n",
       "MULTIPOLYGON (((-117.437426 33.17953,-117.467871 33.2124 ... | 6       | 73       | San Diego County     | 10895213672 | 826296339  | 1.17213e+10\n",
       "MULTIPOLYGON (((-121.065436 39.006533,-121.061653 39.010 ... | 6       | 61       | Placer County        | 3644346108  | 246376805  | 3.89231e+09\n",
       "... (48 rows omitted)"
      ]
     },
     "execution_count": 26,
     "metadata": {},
     "output_type": "execute_result"
    }
   ],
   "source": [
    "# Compute the area in square meters for the entire table\n",
    "myco['area_albers'] = myco.apply(lambda x: getProjectedArea (x, NAD83_CRS, CalAlbers_CRS), ['WKT'])\n",
    "myco"
   ]
  },
  {
   "cell_type": "markdown",
   "metadata": {
    "collapsed": true
   },
   "source": [
    "Let's compute the area from the WKT for one county using a number of different map projections."
   ]
  },
  {
   "cell_type": "code",
   "execution_count": 27,
   "metadata": {
    "collapsed": false
   },
   "outputs": [
    {
     "name": "stdout",
     "output_type": "stream",
     "text": [
      "Area of Sacramento County is:  2575.25742 km\n",
      "Area differences in sq km for Sacramento County between source data and:\n",
      "- ConUS CRS data:  0.118206518671\n",
      "- CalAlbers CRS data:  0.121499768839\n",
      "- UTM10 data:  -0.597591841197\n",
      "- UTM11 data:  7.22489207854\n",
      "- Web Mercator:  1629.86222832\n"
     ]
    }
   ],
   "source": [
    "# Let's take a close look at Sacramento County\n",
    "sacto = myco.where('NAMELSAD', 'Sacramento County')\n",
    "sacto_wkt = sacto['WKT'][0]\n",
    "sacto_area_km = (sacto['ALAND'][0] + sacto['AWATER'][0]) / (1000 * 1000)\n",
    "print('Area of Sacramento County is: ', sacto_area_km, 'km')\n",
    "\n",
    "print(\"Area differences in sq km for\", sacto['NAMELSAD'][0], \"between source data and:\")\n",
    "print(\"- ConUS CRS data: \", getProjectedArea(sacto_wkt, NAD83_CRS,ConUS_CRS) / (1000 * 1000) - sacto_area_km)\n",
    "print(\"- CalAlbers CRS data: \", getProjectedArea(sacto_wkt, NAD83_CRS,CalAlbers_CRS)/ (1000 * 1000) - sacto_area_km)\n",
    "print(\"- UTM10 data: \", getProjectedArea(sacto_wkt, NAD83_CRS,UTM10_CRS)/ (1000 * 1000) - sacto_area_km)\n",
    "print(\"- UTM11 data: \", getProjectedArea(sacto_wkt, NAD83_CRS,UTM11_CRS) / (1000 * 1000) - sacto_area_km)\n",
    "print(\"- Web Mercator: \", getProjectedArea(sacto_wkt, NAD83_CRS,Web_CRS) / (1000 * 1000) - sacto_area_km)\n"
   ]
  },
  {
   "cell_type": "markdown",
   "metadata": {},
   "source": [
    "### Question 9.\n",
    "\n",
    "For the CRS results shown above, explain the differences between the Census data area totals (ALAND + AWATER)  and the area that was calculated using the different map projections. Specifically, what map projection gives you the most and least accurate results and why? \n",
    "\n"
   ]
  },
  {
   "cell_type": "code",
   "execution_count": 3,
   "metadata": {
    "collapsed": true
   },
   "outputs": [],
   "source": [
    "# Enter you response to Question 9 in this cell as code, comments or markdown."
   ]
  },
  {
   "cell_type": "markdown",
   "metadata": {},
   "source": [
    "### Summary \n",
    "\n",
    "\n",
    "- Measuring distance between two points within a small geographic regions can be extremely fast and reasoanably accurate when using **projected data**, or coordinate data referenced to a map projection. This approach scales up well when working with large amounts of data or many complex spatial calculations.\n",
    "- For larger distances (and areas), calculations will be more accurate on a **spheriod** (and to a lesser extent on a sphere) than with a planar map projection, but a bit slower. \n",
    "- Since lots of data is available in WGS84 it is often easier to work with unprojected geographic coordinates, especially when you don't fully understand map projections.\n",
    "- Not all software provides functionality for shperiodal or shperical calculations.\n",
    "\n",
    "#### Reminders\n",
    "\n",
    "- Pay attention to lat vs lon order.\n",
    "- Be mindful of units\n",
    "\n",
    "#### References\n",
    "- http://postgis.refractions.net/documentation/manual-1.5/ch04.html\n",
    "- https://source.opennews.org/en-US/learning/choosing-right-map-projection\n"
   ]
  },
  {
   "cell_type": "markdown",
   "metadata": {},
   "source": [
    "## Part 3. Direction Calculations"
   ]
  },
  {
   "cell_type": "markdown",
   "metadata": {
    "collapsed": true
   },
   "source": [
    "\n",
    "\n",
    "In navigation, the term bearing, or azimuth, refers to the direction of motion. See https://en.wikipedia.org/wiki/Azimuth for a discussion. For example, when flying from one airport to another, a plane is on a course with an initial bearing, which will change along the way. That bearing is the angle between the line from the start point to 0 degrees (true north) and a line from the start point to the destination point. When the result is a *compass bearing* the angle is measured clockwise from north and will always be a positive value between 0 and 359 degrees.\n",
    "\n",
    "Let's calculate the initial bearing from one point to another. First, we define a function to compute bearing using geographic coordinates."
   ]
  },
  {
   "cell_type": "code",
   "execution_count": 29,
   "metadata": {
    "collapsed": true
   },
   "outputs": [],
   "source": [
    "def getBearingOnSphere(pt1,pt2,latlonOrder=0,returnCompass=0):\n",
    "    # After https://gist.github.com/jeromer/2005586\n",
    "\n",
    "    order = latlonOrder\n",
    "    lon1 = math.radians(pt1[0+order])\n",
    "    lon2 = math.radians(pt2[0+order])\n",
    "    lat1 = math.radians(pt1[1-order])\n",
    "    lat2 = math.radians(pt2[1-order])    \n",
    "    \n",
    "    bearing = math.atan2(math.sin(lon2-lon1)*math.cos(lat2), math.cos(lat1)*math.sin(lat2)-math.sin(lat1) * math.cos(lat2)* math.cos(lon2-lon1))\n",
    "    bearing = math.degrees(bearing)\n",
    "    \n",
    "    if returnCompass > 0:\n",
    "        #return compass bearing\n",
    "        bearing = (bearing + 360) % 360\n",
    "    \n",
    "    return bearing"
   ]
  },
  {
   "cell_type": "markdown",
   "metadata": {},
   "source": [
    "We can use the function to determine the initial bearing from LAX to SFO."
   ]
  },
  {
   "cell_type": "code",
   "execution_count": 30,
   "metadata": {
    "collapsed": false
   },
   "outputs": [
    {
     "name": "stdout",
     "output_type": "stream",
     "text": [
      "319.9429598628572\n",
      "-40.05704013714277\n"
     ]
    }
   ],
   "source": [
    "print(getBearingOnSphere(LAX,SFO,1,1))\n",
    "print(getBearingOnSphere(LAX,SFO,1,0))"
   ]
  },
  {
   "cell_type": "markdown",
   "metadata": {},
   "source": [
    "### Question 10.\n",
    "\n",
    "How are the two results above the same and how are they different?\n"
   ]
  },
  {
   "cell_type": "markdown",
   "metadata": {},
   "source": [
    "We need to use a different formula to calculate bearing with projected coordinates."
   ]
  },
  {
   "cell_type": "code",
   "execution_count": 31,
   "metadata": {
    "collapsed": true
   },
   "outputs": [],
   "source": [
    "def getBearingPlanar(pt1,pt2,order=0,returnCompass=0):\n",
    "    lon1 =  pt1[0+order]\n",
    "    lon2 =  pt2[0+order]\n",
    "    lat1 =  pt1[1-order]\n",
    "    lat2 =  pt2[1-order]\n",
    "    \n",
    "    bearing = (180/math.pi)*math.atan2(lon2-lon1,lat2-lat1)\n",
    "    \n",
    "    if returnCompass > 0:\n",
    "        #return compass bearing\n",
    "        bearing = (bearing + 360) % 360\n",
    "    \n",
    "    return bearing"
   ]
  },
  {
   "cell_type": "code",
   "execution_count": 32,
   "metadata": {
    "collapsed": false
   },
   "outputs": [
    {
     "name": "stdout",
     "output_type": "stream",
     "text": [
      "138.97607509956845\n"
     ]
    }
   ],
   "source": [
    "SFO_wkt = \"POINT(-122.375923156738 37.6189384460449)\"\n",
    "LAX_wkt = \"POINT(-118.408981323242 33.9425506591797)\"\n",
    "\n",
    "SFO_json = wktTransformCRS(SFO_wkt, WGS84_CRS, CalAlbers_CRS)\n",
    "LAX_json = wktTransformCRS(LAX_wkt, WGS84_CRS, CalAlbers_CRS)\n",
    "\n",
    "\n",
    "SFO_xy = json.loads(SFO_json)['coordinates']\n",
    "LAX_xy = json.loads(LAX_json)['coordinates']\n",
    "\n",
    "print(getBearingPlanar(SFO_xy,LAX_xy,0,1)) \n"
   ]
  },
  {
   "cell_type": "markdown",
   "metadata": {},
   "source": [
    "You can see above that the difference in bearing with geographic and projected coordinates is slightly different when the projected CRS is CalAlbers.\n",
    "\n",
    "\n",
    "### Question 11.\n",
    "\n",
    "What projected CRS gives a bearing closest to the one calculated using geographic coordinates? Why do these results vary?"
   ]
  },
  {
   "cell_type": "markdown",
   "metadata": {},
   "source": [
    "We can translate compass bearings into directions like North, South, East or West. This is often more helpful than the angular measurements."
   ]
  },
  {
   "cell_type": "code",
   "execution_count": 2,
   "metadata": {
    "collapsed": true
   },
   "outputs": [],
   "source": [
    "def getDirectionFromCompassBearing(angle):\n",
    "    if (45 < angle <= 135):\n",
    "        theDirection = 'east'\n",
    "    elif (135 < angle <= 225):\n",
    "        theDirection = 'south'\n",
    "    elif (225 < angle <= 315 ):\n",
    "        theDirection = 'west'\n",
    "    else:\n",
    "        theDirection = 'north'\n",
    "        \n",
    "    return theDirection"
   ]
  },
  {
   "cell_type": "markdown",
   "metadata": {},
   "source": [
    "We can use the two functions **getDirectionFromCompassBearing** and **getBearingOnSphere**  to compute the initial direction from SFO to LAX and from LAX to SFO."
   ]
  },
  {
   "cell_type": "code",
   "execution_count": 3,
   "metadata": {
    "collapsed": false
   },
   "outputs": [
    {
     "ename": "NameError",
     "evalue": "name 'getBearingOnSphere' is not defined",
     "output_type": "error",
     "traceback": [
      "\u001b[0;31m---------------------------------------------------------------------------\u001b[0m",
      "\u001b[0;31mNameError\u001b[0m                                 Traceback (most recent call last)",
      "\u001b[0;32m<ipython-input-3-5197eff19fd0>\u001b[0m in \u001b[0;36m<module>\u001b[0;34m()\u001b[0m\n\u001b[0;32m----> 1\u001b[0;31m \u001b[0mprint\u001b[0m\u001b[0;34m(\u001b[0m\u001b[0;34m'Initial direction from SFO to LAX:'\u001b[0m\u001b[0;34m,\u001b[0m \u001b[0mgetDirectionFromCompassBearing\u001b[0m\u001b[0;34m(\u001b[0m\u001b[0mgetBearingOnSphere\u001b[0m\u001b[0;34m(\u001b[0m\u001b[0mSFO\u001b[0m\u001b[0;34m,\u001b[0m\u001b[0mLAX\u001b[0m\u001b[0;34m,\u001b[0m\u001b[0;36m1\u001b[0m\u001b[0;34m,\u001b[0m\u001b[0;36m1\u001b[0m\u001b[0;34m)\u001b[0m\u001b[0;34m)\u001b[0m\u001b[0;34m)\u001b[0m\u001b[0;34m\u001b[0m\u001b[0m\n\u001b[0m",
      "\u001b[0;31mNameError\u001b[0m: name 'getBearingOnSphere' is not defined"
     ]
    }
   ],
   "source": [
    "print('Initial direction from SFO to LAX:', getDirectionFromCompassBearing(getBearingOnSphere(SFO,LAX,1,1)))"
   ]
  },
  {
   "cell_type": "markdown",
   "metadata": {},
   "source": [
    "### Question 12.\n",
    "Complete the code in the cell below to print out distance and directions for the array of point locations. Hint: you can enter the points in Google Maps to identify the locations and see if the directions make sense.\n"
   ]
  },
  {
   "cell_type": "code",
   "execution_count": 4,
   "metadata": {
    "collapsed": false
   },
   "outputs": [
    {
     "ename": "NameError",
     "evalue": "name 'np' is not defined",
     "output_type": "error",
     "traceback": [
      "\u001b[0;31m---------------------------------------------------------------------------\u001b[0m",
      "\u001b[0;31mNameError\u001b[0m                                 Traceback (most recent call last)",
      "\u001b[0;32m<ipython-input-4-defcce39138b>\u001b[0m in \u001b[0;36m<module>\u001b[0;34m()\u001b[0m\n\u001b[1;32m      1\u001b[0m \u001b[0;31m#array of points\u001b[0m\u001b[0;34m\u001b[0m\u001b[0;34m\u001b[0m\u001b[0m\n\u001b[0;32m----> 2\u001b[0;31m \u001b[0mmypts\u001b[0m \u001b[0;34m=\u001b[0m \u001b[0mnp\u001b[0m\u001b[0;34m.\u001b[0m\u001b[0marray\u001b[0m\u001b[0;34m(\u001b[0m\u001b[0;34m[\u001b[0m\u001b[0;34m[\u001b[0m\u001b[0;36m37.867984\u001b[0m\u001b[0;34m,\u001b[0m \u001b[0;34m-\u001b[0m\u001b[0;36m122.265605\u001b[0m\u001b[0;34m]\u001b[0m\u001b[0;34m,\u001b[0m\u001b[0;34m[\u001b[0m\u001b[0;36m37.868729\u001b[0m\u001b[0;34m,\u001b[0m \u001b[0;34m-\u001b[0m\u001b[0;36m122.259146\u001b[0m\u001b[0;34m]\u001b[0m\u001b[0;34m,\u001b[0m\u001b[0;34m[\u001b[0m\u001b[0;36m37.871558\u001b[0m\u001b[0;34m,\u001b[0m \u001b[0;34m-\u001b[0m\u001b[0;36m122.259929\u001b[0m\u001b[0;34m]\u001b[0m\u001b[0;34m,\u001b[0m\u001b[0;34m[\u001b[0m\u001b[0;36m37.872024\u001b[0m\u001b[0;34m,\u001b[0m \u001b[0;34m-\u001b[0m\u001b[0;36m122.257837\u001b[0m\u001b[0;34m]\u001b[0m\u001b[0;34m]\u001b[0m\u001b[0;34m)\u001b[0m\u001b[0;34m\u001b[0m\u001b[0m\n\u001b[0m\u001b[1;32m      3\u001b[0m \u001b[0;34m\u001b[0m\u001b[0m\n\u001b[1;32m      4\u001b[0m \u001b[0mi\u001b[0m \u001b[0;34m=\u001b[0m \u001b[0;36m0\u001b[0m \u001b[0;31m# index to start with the first point in array\u001b[0m\u001b[0;34m\u001b[0m\u001b[0m\n\u001b[1;32m      5\u001b[0m \u001b[0;32mwhile\u001b[0m \u001b[0mi\u001b[0m \u001b[0;34m+\u001b[0m \u001b[0;36m1\u001b[0m \u001b[0;34m<\u001b[0m \u001b[0mlen\u001b[0m\u001b[0;34m(\u001b[0m\u001b[0mmypts\u001b[0m\u001b[0;34m)\u001b[0m\u001b[0;34m:\u001b[0m\u001b[0;34m\u001b[0m\u001b[0m\n",
      "\u001b[0;31mNameError\u001b[0m: name 'np' is not defined"
     ]
    }
   ],
   "source": [
    "#array of points\n",
    "mypts = np.array([[37.867984, -122.265605],[37.868729, -122.259146],[37.871558, -122.259929],[37.872024, -122.257837]])\n",
    "\n",
    "i = 0 # index to start with the first point in array\n",
    "while i + 1 < len(mypts):\n",
    "    startpt =  ... #your code\n",
    "    endpt =  ... #your code\n",
    "    \n",
    "    the_distance = ... #your code\n",
    "    the_direction = ... #your code\n",
    "    print(\"Walk %s for %.2f miles.\" %  (the_direction, the_distance))\n",
    "\n",
    "    i = i + 1 #increment the array index\n",
    "\n",
    "print(\"You have arrived!\")"
   ]
  },
  {
   "cell_type": "code",
   "execution_count": null,
   "metadata": {
    "collapsed": true
   },
   "outputs": [],
   "source": []
  }
 ],
 "metadata": {
  "kernelspec": {
   "display_name": "Python 3",
   "language": "python",
   "name": "python3"
  },
  "language_info": {
   "codemirror_mode": {
    "name": "ipython",
    "version": 3
   },
   "file_extension": ".py",
   "mimetype": "text/x-python",
   "name": "python",
   "nbconvert_exporter": "python",
   "pygments_lexer": "ipython3",
   "version": "3.4.3"
  }
 },
 "nbformat": 4,
 "nbformat_minor": 0
}
